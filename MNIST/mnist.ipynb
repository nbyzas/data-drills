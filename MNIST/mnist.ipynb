{
 "cells": [
  {
   "cell_type": "markdown",
   "metadata": {},
   "source": [
    "# Imports & Setup"
   ]
  },
  {
   "cell_type": "code",
   "execution_count": 1,
   "metadata": {},
   "outputs": [
    {
     "data": {
      "text/plain": [
       "<module 'data_mastor.mastor' from '/home/nikley/Projects/data-mastor/src/data_mastor/mastor.py'>"
      ]
     },
     "execution_count": 1,
     "metadata": {},
     "output_type": "execute_result"
    }
   ],
   "source": [
    "from pathlib import Path\n",
    "import os\n",
    "\n",
    "import numpy as np\n",
    "import pandas as pd\n",
    "\n",
    "import mlflow\n",
    "\n",
    "mlflow.sklearn.autolog(\n",
    "    disable=False,\n",
    "    exclusive=False,\n",
    "    log_models=False,\n",
    "    log_input_examples=True,\n",
    ")\n",
    "logged_models_dir = \"modelo\"\n",
    "\n",
    "import joblib\n",
    "\n",
    "memory = joblib.Memory(\"Memory\", verbose=2)\n",
    "\n",
    "from sklearn.linear_model import SGDClassifier\n",
    "from sklearn.datasets import fetch_openml, load_digits\n",
    "from sklearn.model_selection import (\n",
    "    cross_validate,\n",
    "    cross_val_score,\n",
    "    cross_val_predict,\n",
    "    train_test_split,\n",
    "    PredefinedSplit,\n",
    "    StratifiedShuffleSplit,\n",
    ")\n",
    "\n",
    "from sklearn.metrics import (\n",
    "    confusion_matrix,\n",
    "    ConfusionMatrixDisplay,\n",
    "    recall_score,\n",
    "    precision_score,\n",
    "    f1_score,\n",
    "    precision_recall_curve,\n",
    "    classification_report,\n",
    ")\n",
    "\n",
    "from sklearn.linear_model import SGDClassifier\n",
    "from sklearn.svm import SVC, LinearSVC\n",
    "from sklearn.tree import DecisionTreeClassifier\n",
    "from sklearn.ensemble import RandomForestClassifier, AdaBoostClassifier\n",
    "\n",
    "from sklearn.neighbors import KNeighborsClassifier\n",
    "from sklearn.naive_bayes import GaussianNB\n",
    "\n",
    "from sklearn.experimental import enable_halving_search_cv\n",
    "from sklearn.model_selection import (\n",
    "    GridSearchCV,\n",
    "    StratifiedKFold,\n",
    "    RandomizedSearchCV,\n",
    "    # HalvingRandomSearchCV,\n",
    ")\n",
    "\n",
    "from sklearn.pipeline import Pipeline, make_pipeline, FeatureUnion\n",
    "from sklearn.compose import ColumnTransformer\n",
    "\n",
    "from sklearn.impute import SimpleImputer\n",
    "from sklearn.preprocessing import OneHotEncoder, StandardScaler\n",
    "\n",
    "\n",
    "from sklearn.base import BaseEstimator, TransformerMixin\n",
    "from scipy.stats import uniform\n",
    "\n",
    "\n",
    "from data_mastor import mastor as ms\n",
    "import importlib\n",
    "\n",
    "importlib.reload(ms)\n"
   ]
  },
  {
   "cell_type": "markdown",
   "metadata": {},
   "source": [
    "# Setup"
   ]
  },
  {
   "cell_type": "code",
   "execution_count": 2,
   "metadata": {},
   "outputs": [],
   "source": [
    "res_all = pd.DataFrame()  # store all results here\n"
   ]
  },
  {
   "cell_type": "markdown",
   "metadata": {},
   "source": [
    "# Load data"
   ]
  },
  {
   "cell_type": "code",
   "execution_count": 3,
   "metadata": {},
   "outputs": [],
   "source": [
    "from sklearn.datasets import fetch_openml\n",
    "\n",
    "mnist = fetch_openml(\"mnist_784\", version=1, cache=True, as_frame=False)\n",
    "\n",
    "X = mnist[\"data\"]\n",
    "y = mnist[\"target\"].astype(np.uint8)\n",
    "\n",
    "X_train = X[:60000]\n",
    "y_train = y[:60000]\n",
    "X_test = X[60000:]\n",
    "y_test = y[60000:]\n"
   ]
  },
  {
   "cell_type": "markdown",
   "metadata": {},
   "source": [
    "## SVC"
   ]
  },
  {
   "cell_type": "code",
   "execution_count": 4,
   "metadata": {},
   "outputs": [
    {
     "data": {
      "text/plain": [
       "<Experiment: artifact_location='file:///home/nikley/Projects/dataset-drilling/MNIST/mlruns/2', experiment_id='2', lifecycle_stage='active', name='SVC', tags={}>"
      ]
     },
     "execution_count": 4,
     "metadata": {},
     "output_type": "execute_result"
    }
   ],
   "source": [
    "experiment_name = \"SVC\"\n",
    "mlflow.set_experiment(experiment_name)\n"
   ]
  },
  {
   "cell_type": "code",
   "execution_count": 5,
   "metadata": {},
   "outputs": [
    {
     "data": {
      "text/html": [
       "<div>\n",
       "<style scoped>\n",
       "    .dataframe tbody tr th:only-of-type {\n",
       "        vertical-align: middle;\n",
       "    }\n",
       "\n",
       "    .dataframe tbody tr th {\n",
       "        vertical-align: top;\n",
       "    }\n",
       "\n",
       "    .dataframe thead th {\n",
       "        text-align: right;\n",
       "    }\n",
       "</style>\n",
       "<table border=\"1\" class=\"dataframe\">\n",
       "  <thead>\n",
       "    <tr style=\"text-align: right;\">\n",
       "      <th></th>\n",
       "      <th>run_id</th>\n",
       "      <th>experiment_id</th>\n",
       "      <th>status</th>\n",
       "      <th>artifact_uri</th>\n",
       "      <th>start_time</th>\n",
       "      <th>end_time</th>\n",
       "      <th>metrics.training_accuracy_score</th>\n",
       "      <th>metrics.training_recall_score</th>\n",
       "      <th>metrics.training_f1_score</th>\n",
       "      <th>metrics.training_score</th>\n",
       "      <th>...</th>\n",
       "      <th>params.n_jobs</th>\n",
       "      <th>params.verbose</th>\n",
       "      <th>tags.estimator_class</th>\n",
       "      <th>tags.mlflow.source.name</th>\n",
       "      <th>tags.mlflow.source.type</th>\n",
       "      <th>tags.mlflow.log-model.history</th>\n",
       "      <th>tags.mlflow.user</th>\n",
       "      <th>tags.mlflow.runName</th>\n",
       "      <th>tags.estimator_name</th>\n",
       "      <th>tags.mlflow.datasets</th>\n",
       "    </tr>\n",
       "  </thead>\n",
       "  <tbody>\n",
       "    <tr>\n",
       "      <th>0</th>\n",
       "      <td>12d57f4ac2024e60a7a62eb845e8395d</td>\n",
       "      <td>2</td>\n",
       "      <td>FAILED</td>\n",
       "      <td>file:///home/nikley/Projects/dataset-drilling/...</td>\n",
       "      <td>2022-06-18 10:44:13.417000+00:00</td>\n",
       "      <td>2022-06-18 10:44:20.537000+00:00</td>\n",
       "      <td>1.0</td>\n",
       "      <td>1.0</td>\n",
       "      <td>1.0</td>\n",
       "      <td>1.0</td>\n",
       "      <td>...</td>\n",
       "      <td>8</td>\n",
       "      <td>0</td>\n",
       "      <td>sklearn.model_selection._search.GridSearchCV</td>\n",
       "      <td>/home/nikley/miniconda3/lib/python3.9/site-pac...</td>\n",
       "      <td>LOCAL</td>\n",
       "      <td>[{\"run_id\": \"12d57f4ac2024e60a7a62eb845e8395d\"...</td>\n",
       "      <td>nikley</td>\n",
       "      <td>bozz</td>\n",
       "      <td>GridSearchCV</td>\n",
       "      <td>None</td>\n",
       "    </tr>\n",
       "    <tr>\n",
       "      <th>1</th>\n",
       "      <td>a87f7e4f910a48258afc01f03b121c7e</td>\n",
       "      <td>2</td>\n",
       "      <td>FINISHED</td>\n",
       "      <td>file:///home/nikley/Projects/dataset-drilling/...</td>\n",
       "      <td>2022-06-18 10:40:54.731000+00:00</td>\n",
       "      <td>2022-06-18 10:41:04.269000+00:00</td>\n",
       "      <td>1.0</td>\n",
       "      <td>1.0</td>\n",
       "      <td>1.0</td>\n",
       "      <td>1.0</td>\n",
       "      <td>...</td>\n",
       "      <td>8</td>\n",
       "      <td>0</td>\n",
       "      <td>sklearn.model_selection._search.GridSearchCV</td>\n",
       "      <td>/home/nikley/miniconda3/lib/python3.9/site-pac...</td>\n",
       "      <td>LOCAL</td>\n",
       "      <td>[{\"run_id\": \"a87f7e4f910a48258afc01f03b121c7e\"...</td>\n",
       "      <td>nikley</td>\n",
       "      <td>bozz</td>\n",
       "      <td>GridSearchCV</td>\n",
       "      <td>[{\"name\":\"a1ee71132db19371e41de52c0993e9e5\",\"h...</td>\n",
       "    </tr>\n",
       "  </tbody>\n",
       "</table>\n",
       "<p>2 rows × 36 columns</p>\n",
       "</div>"
      ],
      "text/plain": [
       "                             run_id experiment_id    status  \\\n",
       "0  12d57f4ac2024e60a7a62eb845e8395d             2    FAILED   \n",
       "1  a87f7e4f910a48258afc01f03b121c7e             2  FINISHED   \n",
       "\n",
       "                                        artifact_uri  \\\n",
       "0  file:///home/nikley/Projects/dataset-drilling/...   \n",
       "1  file:///home/nikley/Projects/dataset-drilling/...   \n",
       "\n",
       "                        start_time                         end_time  \\\n",
       "0 2022-06-18 10:44:13.417000+00:00 2022-06-18 10:44:20.537000+00:00   \n",
       "1 2022-06-18 10:40:54.731000+00:00 2022-06-18 10:41:04.269000+00:00   \n",
       "\n",
       "   metrics.training_accuracy_score  metrics.training_recall_score  \\\n",
       "0                              1.0                            1.0   \n",
       "1                              1.0                            1.0   \n",
       "\n",
       "   metrics.training_f1_score  metrics.training_score  ...  params.n_jobs  \\\n",
       "0                        1.0                     1.0  ...              8   \n",
       "1                        1.0                     1.0  ...              8   \n",
       "\n",
       "   params.verbose                          tags.estimator_class  \\\n",
       "0               0  sklearn.model_selection._search.GridSearchCV   \n",
       "1               0  sklearn.model_selection._search.GridSearchCV   \n",
       "\n",
       "                             tags.mlflow.source.name  tags.mlflow.source.type  \\\n",
       "0  /home/nikley/miniconda3/lib/python3.9/site-pac...                    LOCAL   \n",
       "1  /home/nikley/miniconda3/lib/python3.9/site-pac...                    LOCAL   \n",
       "\n",
       "                       tags.mlflow.log-model.history tags.mlflow.user  \\\n",
       "0  [{\"run_id\": \"12d57f4ac2024e60a7a62eb845e8395d\"...           nikley   \n",
       "1  [{\"run_id\": \"a87f7e4f910a48258afc01f03b121c7e\"...           nikley   \n",
       "\n",
       "  tags.mlflow.runName tags.estimator_name  \\\n",
       "0                bozz        GridSearchCV   \n",
       "1                bozz        GridSearchCV   \n",
       "\n",
       "                                tags.mlflow.datasets  \n",
       "0                                               None  \n",
       "1  [{\"name\":\"a1ee71132db19371e41de52c0993e9e5\",\"h...  \n",
       "\n",
       "[2 rows x 36 columns]"
      ]
     },
     "execution_count": 5,
     "metadata": {},
     "output_type": "execute_result"
    }
   ],
   "source": [
    "def find_runs(run_name=None, no_children=False, **search_runs_kwargs):\n",
    "\n",
    "    if run_name is not None:\n",
    "\n",
    "        filter_string = f\"tags.`mlflow.runName` = '{run_name}'\"\n",
    "    else:\n",
    "        filter_string = \"\"\n",
    "\n",
    "    df = mlflow.search_runs(filter_string=filter_string, **search_runs_kwargs)\n",
    "\n",
    "    if no_children and (\"tags.mlflow.parentRunId\" in df.columns):\n",
    "        df = df[df[\"tags.mlflow.parentRunId\"].isna()]\n",
    "\n",
    "    return df\n",
    "\n",
    "\n",
    "run_name = \"bozz\"\n",
    "experiment_names = []\n",
    "find_runs(run_name=run_name, experiment_names=experiment_names)\n"
   ]
  },
  {
   "cell_type": "code",
   "execution_count": 6,
   "metadata": {},
   "outputs": [
    {
     "name": "stdout",
     "output_type": "stream",
     "text": [
      "Multiple such runs exist\n"
     ]
    },
    {
     "data": {
      "text/plain": [
       "run_id                                      12d57f4ac2024e60a7a62eb845e8395d\n",
       "experiment_id                                                              2\n",
       "status                                                                FAILED\n",
       "artifact_uri               file:///home/nikley/Projects/dataset-drilling/...\n",
       "start_time                                  2022-06-18 10:44:13.417000+00:00\n",
       "                                                 ...                        \n",
       "tags.mlflow.runName                                                     bozz\n",
       "tags.estimator_name                                             GridSearchCV\n",
       "tags.mlflow.autologging                                                 None\n",
       "tags.mlflow.parentRunId                                                 None\n",
       "tags.mlflow.datasets                                                    None\n",
       "Name: 0, Length: 67, dtype: object"
      ]
     },
     "execution_count": 6,
     "metadata": {},
     "output_type": "execute_result"
    }
   ],
   "source": [
    "def get_last_run_search_info(\n",
    "    run_name=None, no_children=True, **search_run_kwargs\n",
    "):\n",
    "\n",
    "    df = mlflow.search_runs(**search_run_kwargs)\n",
    "\n",
    "    df = find_runs(\n",
    "        run_name=run_name, no_children=no_children, **search_run_kwargs\n",
    "    )\n",
    "\n",
    "    if len(df) == 0:\n",
    "        print(\"Such a run does not exist\")\n",
    "\n",
    "    if len(df) > 1:\n",
    "        print(\"Multiple such runs exist\")\n",
    "\n",
    "    if len(df) > 0:\n",
    "        last_run_search_info = df.sort_values(\n",
    "            \"start_time\", ascending=True\n",
    "        ).iloc[-1]\n",
    "    else:\n",
    "        last_run_search_info = None\n",
    "\n",
    "    return last_run_search_info\n",
    "\n",
    "\n",
    "# last_run_info = get_last_run_of_experiment(\"SVC\")\n",
    "last_run_search_info = get_last_run_search_info(\n",
    "    experiment_names=[experiment_name]\n",
    ")\n",
    "last_run_search_info\n"
   ]
  },
  {
   "cell_type": "code",
   "execution_count": 7,
   "metadata": {},
   "outputs": [
    {
     "data": {
      "text/plain": [
       "<Run: data=<RunData: metrics={'best_cv_score': 0.8786109827417585,\n",
       " 'training_accuracy_score': 1.0,\n",
       " 'training_f1_score': 1.0,\n",
       " 'training_precision_score': 1.0,\n",
       " 'training_recall_score': 1.0,\n",
       " 'training_score': 1.0}, params={'best_classifier__C': '0.5',\n",
       " 'best_classifier__kernel': 'linear',\n",
       " 'cv': '2',\n",
       " 'error_score': 'nan',\n",
       " 'estimator': \"Pipeline(steps=[('scaler', StandardScaler()), ('classifier', \"\n",
       "              'SVC())])',\n",
       " 'n_jobs': '8',\n",
       " 'param_grid': \"[{'classifier__kernel': ['linear', 'poly', 'rbf'], \"\n",
       "               \"'classifier__C': [0.5, 1, 2]}]\",\n",
       " 'pre_dispatch': '2*n_jobs',\n",
       " 'refit': 'True',\n",
       " 'return_train_score': 'False',\n",
       " 'scoring': 'f1_macro',\n",
       " 'verbose': '0'}, tags={'estimator_class': 'sklearn.model_selection._search.GridSearchCV',\n",
       " 'estimator_name': 'GridSearchCV',\n",
       " 'mlflow.log-model.history': '[{\"run_id\": \"12d57f4ac2024e60a7a62eb845e8395d\", '\n",
       "                             '\"artifact_path\": \"modelo\", \"utc_time_created\": '\n",
       "                             '\"2022-06-18 10:44:18.589654\", \"flavors\": '\n",
       "                             '{\"python_function\": {\"model_path\": \"model.pkl\", '\n",
       "                             '\"loader_module\": \"mlflow.sklearn\", '\n",
       "                             '\"python_version\": \"3.9.13\", \"env\": '\n",
       "                             '\"conda.yaml\"}, \"sklearn\": {\"pickled_model\": '\n",
       "                             '\"model.pkl\", \"sklearn_version\": \"1.1.1\", '\n",
       "                             '\"serialization_format\": \"cloudpickle\", \"code\": '\n",
       "                             'null}}, \"model_uuid\": '\n",
       "                             '\"61cf313d43c646b497e925d9144a4238\", '\n",
       "                             '\"mlflow_version\": \"1.26.1\"}]',\n",
       " 'mlflow.runName': 'bozz',\n",
       " 'mlflow.source.name': '/home/nikley/miniconda3/lib/python3.9/site-packages/ipykernel_launcher.py',\n",
       " 'mlflow.source.type': 'LOCAL',\n",
       " 'mlflow.user': 'nikley'}>, info=<RunInfo: artifact_uri='file:///home/nikley/Projects/dataset-drilling/MNIST/mlruns/2/12d57f4ac2024e60a7a62eb845e8395d/artifacts', end_time=1655549060537, experiment_id='2', lifecycle_stage='active', run_id='12d57f4ac2024e60a7a62eb845e8395d', run_uuid='12d57f4ac2024e60a7a62eb845e8395d', start_time=1655549053417, status='FAILED', user_id='nikley'>>"
      ]
     },
     "execution_count": 7,
     "metadata": {},
     "output_type": "execute_result"
    }
   ],
   "source": [
    "last_run_id = last_run_search_info.run_id\n",
    "last_run = mlflow.get_run(last_run_id)\n",
    "last_run\n"
   ]
  },
  {
   "cell_type": "code",
   "execution_count": 8,
   "metadata": {},
   "outputs": [
    {
     "data": {
      "text/plain": [
       "{'12d57f4ac2024e60a7a62eb845e8395d',\n",
       " '1f4f19e727f04b7ea00c1f8100c7660a',\n",
       " '410602f5f27345089ba88145d7559162',\n",
       " '486931712d0d45448ba0ca89785abd6f',\n",
       " '6ab4f6a00d2e4757b9b241151031a50a',\n",
       " 'a87f7e4f910a48258afc01f03b121c7e',\n",
       " 'ac0f291aebcd4fbeb187cca25baa0cd6',\n",
       " 'c7d03d5cb52e455ea4d6b46a687239a4'}"
      ]
     },
     "execution_count": 8,
     "metadata": {},
     "output_type": "execute_result"
    }
   ],
   "source": [
    "bof = mlflow.search_runs()\n",
    "run_ids = set(bof[\"run_id\"])\n",
    "run_ids\n"
   ]
  },
  {
   "cell_type": "code",
   "execution_count": 9,
   "metadata": {},
   "outputs": [],
   "source": [
    "def delete_duplicate_runs(\n",
    "    run_name=None,\n",
    "    no_children=False,\n",
    "    parameter_names=None,\n",
    "    keep=0,\n",
    "    **search_runs_kwargs\n",
    "):\n",
    "\n",
    "    if run_name is not None:\n",
    "        df = find_runs(\n",
    "            run_name=run_name, no_children=no_children, **search_runs_kwargs\n",
    "        )\n",
    "    else:\n",
    "        df = find_runs(no_children=no_children, **search_runs_kwargs)\n",
    "\n",
    "    df = df.sort_values(\"start_time\", ascending=False)\n",
    "\n",
    "    if parameter_names is not None:\n",
    "        parameter_column_names = [\"params.\" + _ for _ in parameter_names]\n",
    "    duplicates = df.duplicated(subset=parameter_column_names)\n",
    "\n",
    "    duplicates_to_delete = df[duplicates].iloc[keep:]\n",
    "\n",
    "    ids_to_delete = duplicates_to_delete[\"run_id\"].tolist()\n",
    "    for id_ in ids_to_delete:\n",
    "        mlflow.delete_run(run_id=id_)\n",
    "\n",
    "    return duplicates_to_delete\n",
    "\n",
    "\n",
    "# df = delete_duplicate_runs(parameter_names=[\"estimator\", \"param_grid\"], keep=0)\n",
    "# df\n"
   ]
  },
  {
   "cell_type": "code",
   "execution_count": 10,
   "metadata": {},
   "outputs": [
    {
     "name": "stdout",
     "output_type": "stream",
     "text": [
      "Last run id: a87f7e4f910a48258afc01f03b121c7e\n",
      "Run id: 12d57f4ac2024e60a7a62eb845e8395d\n",
      "TRAINING\n",
      "Num training samples: 1500\n"
     ]
    },
    {
     "name": "stderr",
     "output_type": "stream",
     "text": [
      "2022/06/18 13:44:18 INFO mlflow.sklearn.utils: Logging the 5 best runs, 4 runs will be omitted.\n"
     ]
    },
    {
     "name": "stdout",
     "output_type": "stream",
     "text": [
      "['training_confusion_matrix.png', 'cv_results.csv']\n"
     ]
    },
    {
     "name": "stderr",
     "output_type": "stream",
     "text": [
      "/home/nikley/miniconda3/lib/python3.9/site-packages/_distutils_hack/__init__.py:30: UserWarning: Setuptools is replacing distutils.\n",
      "  warnings.warn(\"Setuptools is replacing distutils.\")\n"
     ]
    },
    {
     "ename": "MlflowException",
     "evalue": "Model Registry features are not supported by the store with URI: 'file:///home/nikley/Projects/dataset-drilling/MNIST/mlruns'. Stores with the following URI schemes are supported: ['databricks', 'http', 'https', 'postgresql', 'mysql', 'sqlite', 'mssql'].",
     "output_type": "error",
     "traceback": [
      "\u001b[0;31m---------------------------------------------------------------------------\u001b[0m",
      "\u001b[0;31mKeyError\u001b[0m                                  Traceback (most recent call last)",
      "File \u001b[0;32m~/miniconda3/lib/python3.9/site-packages/mlflow/tracking/registry.py:76\u001b[0m, in \u001b[0;36mStoreRegistry.get_store_builder\u001b[0;34m(self, store_uri)\u001b[0m\n\u001b[1;32m     75\u001b[0m \u001b[39mtry\u001b[39;00m:\n\u001b[0;32m---> 76\u001b[0m     store_builder \u001b[39m=\u001b[39m \u001b[39mself\u001b[39;49m\u001b[39m.\u001b[39;49m_registry[scheme]\n\u001b[1;32m     77\u001b[0m \u001b[39mexcept\u001b[39;00m \u001b[39mKeyError\u001b[39;00m:\n",
      "\u001b[0;31mKeyError\u001b[0m: 'file'",
      "\nDuring handling of the above exception, another exception occurred:\n",
      "\u001b[0;31mUnsupportedModelRegistryStoreURIException\u001b[0m Traceback (most recent call last)",
      "File \u001b[0;32m~/miniconda3/lib/python3.9/site-packages/mlflow/tracking/client.py:95\u001b[0m, in \u001b[0;36mMlflowClient._get_registry_client\u001b[0;34m(self)\u001b[0m\n\u001b[1;32m     94\u001b[0m \u001b[39mtry\u001b[39;00m:\n\u001b[0;32m---> 95\u001b[0m     registry_client \u001b[39m=\u001b[39m ModelRegistryClient(\u001b[39mself\u001b[39;49m\u001b[39m.\u001b[39;49m_registry_uri)\n\u001b[1;32m     96\u001b[0m     \u001b[39m# Define an instance variable on this `MlflowClient` instance to reference the\u001b[39;00m\n\u001b[1;32m     97\u001b[0m     \u001b[39m# `ModelRegistryClient` that was just constructed. `setattr()` is used to ensure\u001b[39;00m\n\u001b[1;32m     98\u001b[0m     \u001b[39m# that the variable name is consistent with the variable name specified in the\u001b[39;00m\n\u001b[1;32m     99\u001b[0m     \u001b[39m# preceding call to `getattr()`\u001b[39;00m\n",
      "File \u001b[0;32m~/miniconda3/lib/python3.9/site-packages/mlflow/tracking/_model_registry/client.py:36\u001b[0m, in \u001b[0;36mModelRegistryClient.__init__\u001b[0;34m(self, registry_uri)\u001b[0m\n\u001b[1;32m     33\u001b[0m \u001b[39m# NB: Fetch the tracking store (`self.store`) upon client initialization to ensure that\u001b[39;00m\n\u001b[1;32m     34\u001b[0m \u001b[39m# the tracking URI is valid and the store can be properly resolved. We define `store` as a\u001b[39;00m\n\u001b[1;32m     35\u001b[0m \u001b[39m# property method to ensure that the client is serializable, even if the store is not\u001b[39;00m\n\u001b[0;32m---> 36\u001b[0m \u001b[39mself\u001b[39;49m\u001b[39m.\u001b[39;49mstore\n",
      "File \u001b[0;32m~/miniconda3/lib/python3.9/site-packages/mlflow/tracking/_model_registry/client.py:40\u001b[0m, in \u001b[0;36mModelRegistryClient.store\u001b[0;34m(self)\u001b[0m\n\u001b[1;32m     38\u001b[0m \u001b[39m@property\u001b[39m\n\u001b[1;32m     39\u001b[0m \u001b[39mdef\u001b[39;00m \u001b[39mstore\u001b[39m(\u001b[39mself\u001b[39m):\n\u001b[0;32m---> 40\u001b[0m     \u001b[39mreturn\u001b[39;00m utils\u001b[39m.\u001b[39;49m_get_store(\u001b[39mself\u001b[39;49m\u001b[39m.\u001b[39;49mregistry_uri)\n",
      "File \u001b[0;32m~/miniconda3/lib/python3.9/site-packages/mlflow/tracking/_model_registry/utils.py:169\u001b[0m, in \u001b[0;36m_get_store\u001b[0;34m(store_uri)\u001b[0m\n\u001b[1;32m    168\u001b[0m \u001b[39mdef\u001b[39;00m \u001b[39m_get_store\u001b[39m(store_uri\u001b[39m=\u001b[39m\u001b[39mNone\u001b[39;00m):\n\u001b[0;32m--> 169\u001b[0m     \u001b[39mreturn\u001b[39;00m _get_store_registry()\u001b[39m.\u001b[39;49mget_store(store_uri)\n",
      "File \u001b[0;32m~/miniconda3/lib/python3.9/site-packages/mlflow/tracking/_model_registry/registry.py:37\u001b[0m, in \u001b[0;36mModelRegistryStoreRegistry.get_store\u001b[0;34m(self, store_uri)\u001b[0m\n\u001b[1;32m     36\u001b[0m resolved_store_uri \u001b[39m=\u001b[39m utils\u001b[39m.\u001b[39m_resolve_registry_uri(store_uri)\n\u001b[0;32m---> 37\u001b[0m \u001b[39mreturn\u001b[39;00m \u001b[39mself\u001b[39;49m\u001b[39m.\u001b[39;49m_get_store_with_resolved_uri(resolved_store_uri)\n",
      "File \u001b[0;32m~/miniconda3/lib/python3.9/site-packages/mlflow/tracking/_model_registry/registry.py:46\u001b[0m, in \u001b[0;36mModelRegistryStoreRegistry._get_store_with_resolved_uri\u001b[0;34m(self, resolved_store_uri)\u001b[0m\n\u001b[1;32m     41\u001b[0m \u001b[39m\"\"\"\u001b[39;00m\n\u001b[1;32m     42\u001b[0m \u001b[39mRetrieve the store associated with a resolved (non-None) store URI and an artifact URI.\u001b[39;00m\n\u001b[1;32m     43\u001b[0m \u001b[39mCaching is done on resolved URIs because the meaning of an unresolved (None) URI may change\u001b[39;00m\n\u001b[1;32m     44\u001b[0m \u001b[39mdepending on external configuration, such as environment variables\u001b[39;00m\n\u001b[1;32m     45\u001b[0m \u001b[39m\"\"\"\u001b[39;00m\n\u001b[0;32m---> 46\u001b[0m builder \u001b[39m=\u001b[39m \u001b[39mself\u001b[39;49m\u001b[39m.\u001b[39;49mget_store_builder(resolved_store_uri)\n\u001b[1;32m     47\u001b[0m \u001b[39mreturn\u001b[39;00m builder(store_uri\u001b[39m=\u001b[39mresolved_store_uri)\n",
      "File \u001b[0;32m~/miniconda3/lib/python3.9/site-packages/mlflow/tracking/registry.py:78\u001b[0m, in \u001b[0;36mStoreRegistry.get_store_builder\u001b[0;34m(self, store_uri)\u001b[0m\n\u001b[1;32m     77\u001b[0m \u001b[39mexcept\u001b[39;00m \u001b[39mKeyError\u001b[39;00m:\n\u001b[0;32m---> 78\u001b[0m     \u001b[39mraise\u001b[39;00m UnsupportedModelRegistryStoreURIException(\n\u001b[1;32m     79\u001b[0m         unsupported_uri\u001b[39m=\u001b[39mstore_uri, supported_uri_schemes\u001b[39m=\u001b[39m\u001b[39mlist\u001b[39m(\u001b[39mself\u001b[39m\u001b[39m.\u001b[39m_registry\u001b[39m.\u001b[39mkeys())\n\u001b[1;32m     80\u001b[0m     )\n\u001b[1;32m     81\u001b[0m \u001b[39mreturn\u001b[39;00m store_builder\n",
      "\u001b[0;31mUnsupportedModelRegistryStoreURIException\u001b[0m:  Model registry functionality is unavailable; got unsupported URI 'file:///home/nikley/Projects/dataset-drilling/MNIST/mlruns' for model registry data storage. Supported URI schemes are: ['databricks', 'http', 'https', 'postgresql', 'mysql', 'sqlite', 'mssql']. See https://www.mlflow.org/docs/latest/tracking.html#storage for how to run an MLflow server against one of the supported backend storage locations.",
      "\nDuring handling of the above exception, another exception occurred:\n",
      "\u001b[0;31mMlflowException\u001b[0m                           Traceback (most recent call last)",
      "\u001b[1;32m/home/nikley/Projects/dataset-drilling/MNIST/mnist.ipynb Cell 14'\u001b[0m in \u001b[0;36m<cell line: 22>\u001b[0;34m()\u001b[0m\n\u001b[1;32m     <a href='vscode-notebook-cell:/home/nikley/Projects/dataset-drilling/MNIST/mnist.ipynb#ch0000015?line=49'>50</a>\u001b[0m \u001b[39mprint\u001b[39m(os\u001b[39m.\u001b[39mlistdir(artifact_uri[\u001b[39m7\u001b[39m:]))\n\u001b[1;32m     <a href='vscode-notebook-cell:/home/nikley/Projects/dataset-drilling/MNIST/mnist.ipynb#ch0000015?line=50'>51</a>\u001b[0m model_uri \u001b[39m=\u001b[39m artifact_uri \u001b[39m+\u001b[39m \u001b[39m\"\u001b[39m\u001b[39m/model\u001b[39m\u001b[39m\"\u001b[39m\n\u001b[0;32m---> <a href='vscode-notebook-cell:/home/nikley/Projects/dataset-drilling/MNIST/mnist.ipynb#ch0000015?line=51'>52</a>\u001b[0m model_info \u001b[39m=\u001b[39m mlflow\u001b[39m.\u001b[39;49msklearn\u001b[39m.\u001b[39;49mlog_model(\n\u001b[1;32m     <a href='vscode-notebook-cell:/home/nikley/Projects/dataset-drilling/MNIST/mnist.ipynb#ch0000015?line=52'>53</a>\u001b[0m     model, logged_models_dir, registered_model_name\u001b[39m=\u001b[39;49m\u001b[39m\"\u001b[39;49m\u001b[39mberb\u001b[39;49m\u001b[39m\"\u001b[39;49m\n\u001b[1;32m     <a href='vscode-notebook-cell:/home/nikley/Projects/dataset-drilling/MNIST/mnist.ipynb#ch0000015?line=53'>54</a>\u001b[0m )\n\u001b[1;32m     <a href='vscode-notebook-cell:/home/nikley/Projects/dataset-drilling/MNIST/mnist.ipynb#ch0000015?line=54'>55</a>\u001b[0m model_uri \u001b[39m=\u001b[39m model_info\u001b[39m.\u001b[39mmodel_uri\n\u001b[1;32m     <a href='vscode-notebook-cell:/home/nikley/Projects/dataset-drilling/MNIST/mnist.ipynb#ch0000015?line=55'>56</a>\u001b[0m registered_model_name \u001b[39m=\u001b[39m \u001b[39m\"\u001b[39m\u001b[39mboskley\u001b[39m\u001b[39m\"\u001b[39m\n",
      "File \u001b[0;32m~/miniconda3/lib/python3.9/site-packages/mlflow/sklearn/__init__.py:393\u001b[0m, in \u001b[0;36mlog_model\u001b[0;34m(sk_model, artifact_path, conda_env, code_paths, serialization_format, registered_model_name, signature, input_example, await_registration_for, pip_requirements, extra_pip_requirements)\u001b[0m\n\u001b[1;32m    309\u001b[0m \u001b[39m@format_docstring\u001b[39m(LOG_MODEL_PARAM_DOCS\u001b[39m.\u001b[39mformat(package_name\u001b[39m=\u001b[39m\u001b[39m\"\u001b[39m\u001b[39mscikit-learn\u001b[39m\u001b[39m\"\u001b[39m))\n\u001b[1;32m    310\u001b[0m \u001b[39mdef\u001b[39;00m \u001b[39mlog_model\u001b[39m(\n\u001b[1;32m    311\u001b[0m     sk_model,\n\u001b[0;32m   (...)\u001b[0m\n\u001b[1;32m    321\u001b[0m     extra_pip_requirements\u001b[39m=\u001b[39m\u001b[39mNone\u001b[39;00m,\n\u001b[1;32m    322\u001b[0m ):\n\u001b[1;32m    323\u001b[0m     \u001b[39m\"\"\"\u001b[39;00m\n\u001b[1;32m    324\u001b[0m \u001b[39m    Log a scikit-learn model as an MLflow artifact for the current run. Produces an MLflow Model\u001b[39;00m\n\u001b[1;32m    325\u001b[0m \u001b[39m    containing the following flavors:\u001b[39;00m\n\u001b[0;32m   (...)\u001b[0m\n\u001b[1;32m    391\u001b[0m \u001b[39m        mlflow.sklearn.log_model(sk_model, \"sk_models\")\u001b[39;00m\n\u001b[1;32m    392\u001b[0m \u001b[39m    \"\"\"\u001b[39;00m\n\u001b[0;32m--> 393\u001b[0m     \u001b[39mreturn\u001b[39;00m Model\u001b[39m.\u001b[39;49mlog(\n\u001b[1;32m    394\u001b[0m         artifact_path\u001b[39m=\u001b[39;49martifact_path,\n\u001b[1;32m    395\u001b[0m         flavor\u001b[39m=\u001b[39;49mmlflow\u001b[39m.\u001b[39;49msklearn,\n\u001b[1;32m    396\u001b[0m         sk_model\u001b[39m=\u001b[39;49msk_model,\n\u001b[1;32m    397\u001b[0m         conda_env\u001b[39m=\u001b[39;49mconda_env,\n\u001b[1;32m    398\u001b[0m         code_paths\u001b[39m=\u001b[39;49mcode_paths,\n\u001b[1;32m    399\u001b[0m         serialization_format\u001b[39m=\u001b[39;49mserialization_format,\n\u001b[1;32m    400\u001b[0m         registered_model_name\u001b[39m=\u001b[39;49mregistered_model_name,\n\u001b[1;32m    401\u001b[0m         signature\u001b[39m=\u001b[39;49msignature,\n\u001b[1;32m    402\u001b[0m         input_example\u001b[39m=\u001b[39;49minput_example,\n\u001b[1;32m    403\u001b[0m         await_registration_for\u001b[39m=\u001b[39;49mawait_registration_for,\n\u001b[1;32m    404\u001b[0m         pip_requirements\u001b[39m=\u001b[39;49mpip_requirements,\n\u001b[1;32m    405\u001b[0m         extra_pip_requirements\u001b[39m=\u001b[39;49mextra_pip_requirements,\n\u001b[1;32m    406\u001b[0m     )\n",
      "File \u001b[0;32m~/miniconda3/lib/python3.9/site-packages/mlflow/models/model.py:304\u001b[0m, in \u001b[0;36mModel.log\u001b[0;34m(cls, artifact_path, flavor, registered_model_name, await_registration_for, **kwargs)\u001b[0m\n\u001b[1;32m    302\u001b[0m     \u001b[39mif\u001b[39;00m registered_model_name \u001b[39mis\u001b[39;00m \u001b[39mnot\u001b[39;00m \u001b[39mNone\u001b[39;00m:\n\u001b[1;32m    303\u001b[0m         run_id \u001b[39m=\u001b[39m mlflow\u001b[39m.\u001b[39mtracking\u001b[39m.\u001b[39mfluent\u001b[39m.\u001b[39mactive_run()\u001b[39m.\u001b[39minfo\u001b[39m.\u001b[39mrun_id\n\u001b[0;32m--> 304\u001b[0m         mlflow\u001b[39m.\u001b[39;49mregister_model(\n\u001b[1;32m    305\u001b[0m             \u001b[39m\"\u001b[39;49m\u001b[39mruns:/\u001b[39;49m\u001b[39m%s\u001b[39;49;00m\u001b[39m/\u001b[39;49m\u001b[39m%s\u001b[39;49;00m\u001b[39m\"\u001b[39;49m \u001b[39m%\u001b[39;49m (run_id, artifact_path),\n\u001b[1;32m    306\u001b[0m             registered_model_name,\n\u001b[1;32m    307\u001b[0m             await_registration_for\u001b[39m=\u001b[39;49mawait_registration_for,\n\u001b[1;32m    308\u001b[0m         )\n\u001b[1;32m    309\u001b[0m \u001b[39mreturn\u001b[39;00m mlflow_model\u001b[39m.\u001b[39mget_model_info()\n",
      "File \u001b[0;32m~/miniconda3/lib/python3.9/site-packages/mlflow/tracking/_model_registry/fluent.py:67\u001b[0m, in \u001b[0;36mregister_model\u001b[0;34m(model_uri, name, await_registration_for)\u001b[0m\n\u001b[1;32m     62\u001b[0m         eprint(\n\u001b[1;32m     63\u001b[0m             \u001b[39m\"\u001b[39m\u001b[39mRegistered model \u001b[39m\u001b[39m'\u001b[39m\u001b[39m%s\u001b[39;00m\u001b[39m'\u001b[39m\u001b[39m already exists. Creating a new version of this model...\u001b[39m\u001b[39m\"\u001b[39m\n\u001b[1;32m     64\u001b[0m             \u001b[39m%\u001b[39m name\n\u001b[1;32m     65\u001b[0m         )\n\u001b[1;32m     66\u001b[0m     \u001b[39melse\u001b[39;00m:\n\u001b[0;32m---> 67\u001b[0m         \u001b[39mraise\u001b[39;00m e\n\u001b[1;32m     69\u001b[0m \u001b[39mif\u001b[39;00m RunsArtifactRepository\u001b[39m.\u001b[39mis_runs_uri(model_uri):\n\u001b[1;32m     70\u001b[0m     source \u001b[39m=\u001b[39m RunsArtifactRepository\u001b[39m.\u001b[39mget_underlying_uri(model_uri)\n",
      "File \u001b[0;32m~/miniconda3/lib/python3.9/site-packages/mlflow/tracking/_model_registry/fluent.py:58\u001b[0m, in \u001b[0;36mregister_model\u001b[0;34m(model_uri, name, await_registration_for)\u001b[0m\n\u001b[1;32m     56\u001b[0m client \u001b[39m=\u001b[39m MlflowClient()\n\u001b[1;32m     57\u001b[0m \u001b[39mtry\u001b[39;00m:\n\u001b[0;32m---> 58\u001b[0m     create_model_response \u001b[39m=\u001b[39m client\u001b[39m.\u001b[39;49mcreate_registered_model(name)\n\u001b[1;32m     59\u001b[0m     eprint(\u001b[39m\"\u001b[39m\u001b[39mSuccessfully registered model \u001b[39m\u001b[39m'\u001b[39m\u001b[39m%s\u001b[39;00m\u001b[39m'\u001b[39m\u001b[39m.\u001b[39m\u001b[39m\"\u001b[39m \u001b[39m%\u001b[39m create_model_response\u001b[39m.\u001b[39mname)\n\u001b[1;32m     60\u001b[0m \u001b[39mexcept\u001b[39;00m MlflowException \u001b[39mas\u001b[39;00m e:\n",
      "File \u001b[0;32m~/miniconda3/lib/python3.9/site-packages/mlflow/tracking/client.py:1658\u001b[0m, in \u001b[0;36mMlflowClient.create_registered_model\u001b[0;34m(self, name, tags, description)\u001b[0m\n\u001b[1;32m   1618\u001b[0m \u001b[39mdef\u001b[39;00m \u001b[39mcreate_registered_model\u001b[39m(\n\u001b[1;32m   1619\u001b[0m     \u001b[39mself\u001b[39m, name: \u001b[39mstr\u001b[39m, tags: Optional[Dict[\u001b[39mstr\u001b[39m, Any]] \u001b[39m=\u001b[39m \u001b[39mNone\u001b[39;00m, description: Optional[\u001b[39mstr\u001b[39m] \u001b[39m=\u001b[39m \u001b[39mNone\u001b[39;00m\n\u001b[1;32m   1620\u001b[0m ) \u001b[39m-\u001b[39m\u001b[39m>\u001b[39m RegisteredModel:\n\u001b[1;32m   1621\u001b[0m     \u001b[39m\"\"\"\u001b[39;00m\n\u001b[1;32m   1622\u001b[0m \u001b[39m    Create a new registered model in backend store.\u001b[39;00m\n\u001b[1;32m   1623\u001b[0m \n\u001b[0;32m   (...)\u001b[0m\n\u001b[1;32m   1656\u001b[0m \u001b[39m        description: This sentiment analysis model classifies the tone-happy, sad, angry.\u001b[39;00m\n\u001b[1;32m   1657\u001b[0m \u001b[39m    \"\"\"\u001b[39;00m\n\u001b[0;32m-> 1658\u001b[0m     \u001b[39mreturn\u001b[39;00m \u001b[39mself\u001b[39;49m\u001b[39m.\u001b[39;49m_get_registry_client()\u001b[39m.\u001b[39mcreate_registered_model(name, tags, description)\n",
      "File \u001b[0;32m~/miniconda3/lib/python3.9/site-packages/mlflow/tracking/client.py:102\u001b[0m, in \u001b[0;36mMlflowClient._get_registry_client\u001b[0;34m(self)\u001b[0m\n\u001b[1;32m    100\u001b[0m         \u001b[39msetattr\u001b[39m(\u001b[39mself\u001b[39m, registry_client_attr, registry_client)\n\u001b[1;32m    101\u001b[0m     \u001b[39mexcept\u001b[39;00m UnsupportedModelRegistryStoreURIException \u001b[39mas\u001b[39;00m exc:\n\u001b[0;32m--> 102\u001b[0m         \u001b[39mraise\u001b[39;00m MlflowException(\n\u001b[1;32m    103\u001b[0m             \u001b[39m\"\u001b[39m\u001b[39mModel Registry features are not supported by the store with URI:\u001b[39m\u001b[39m\"\u001b[39m\n\u001b[1;32m    104\u001b[0m             \u001b[39m\"\u001b[39m\u001b[39m \u001b[39m\u001b[39m'\u001b[39m\u001b[39m{uri}\u001b[39;00m\u001b[39m'\u001b[39m\u001b[39m. Stores with the following URI schemes are supported:\u001b[39m\u001b[39m\"\u001b[39m\n\u001b[1;32m    105\u001b[0m             \u001b[39m\"\u001b[39m\u001b[39m \u001b[39m\u001b[39m{schemes}\u001b[39;00m\u001b[39m.\u001b[39m\u001b[39m\"\u001b[39m\u001b[39m.\u001b[39mformat(uri\u001b[39m=\u001b[39m\u001b[39mself\u001b[39m\u001b[39m.\u001b[39m_registry_uri, schemes\u001b[39m=\u001b[39mexc\u001b[39m.\u001b[39msupported_uri_schemes),\n\u001b[1;32m    106\u001b[0m             FEATURE_DISABLED,\n\u001b[1;32m    107\u001b[0m         )\n\u001b[1;32m    108\u001b[0m \u001b[39mreturn\u001b[39;00m registry_client\n",
      "\u001b[0;31mMlflowException\u001b[0m: Model Registry features are not supported by the store with URI: 'file:///home/nikley/Projects/dataset-drilling/MNIST/mlruns'. Stores with the following URI schemes are supported: ['databricks', 'http', 'https', 'postgresql', 'mysql', 'sqlite', 'mssql']."
     ]
    }
   ],
   "source": [
    "run_name = \"bozz\"\n",
    "train_now = True\n",
    "\n",
    "\n",
    "last_run_search_info = get_last_run_search_info(\n",
    "    experiment_names=[experiment_name]\n",
    ")\n",
    "if last_run_search_info is not None:\n",
    "    artifact_uri = last_run_search_info.artifact_uri\n",
    "    model_path = str(Path(artifact_uri) / Path(\"model\"))\n",
    "    print(f\"Last run id: {last_run_search_info.run_id}\")\n",
    "\n",
    "    try:\n",
    "        model = mlflow.sklearn.load_model(model_path)\n",
    "    except OSError:\n",
    "        print(f\"{model_path} is not a model. Will train a new model now.\")\n",
    "        train_now = True\n",
    "    except Exception as exc:\n",
    "        print(exc)\n",
    "\n",
    "\n",
    "if train_now:\n",
    "    with mlflow.start_run(run_name=run_name) as run:\n",
    "        artifact_uri = run.info.artifact_uri\n",
    "        model_path = str(Path(artifact_uri) / Path(\"model\"))\n",
    "        print(f\"Run id: {run.info.run_id}\")\n",
    "\n",
    "        # Define model\n",
    "        pipeline = Pipeline(\n",
    "            [(\"scaler\", StandardScaler()), (\"classifier\", SVC())]\n",
    "        )\n",
    "        parameters = [\n",
    "            {\n",
    "                \"classifier__kernel\": [\"linear\", \"poly\", \"rbf\"],\n",
    "                \"classifier__C\": [0.5, 1, 2],\n",
    "            },\n",
    "        ]\n",
    "        model = GridSearchCV(\n",
    "            pipeline, parameters, cv=2, scoring=\"f1_macro\", n_jobs=8\n",
    "        )\n",
    "\n",
    "        print(\"TRAINING\")\n",
    "        ind = ms.subset_indices(y_train, ratio=0.025)\n",
    "        X_train_subset = X_train[ind]\n",
    "        y_train_subset = y_train[ind]\n",
    "        print(f\"Num training samples: {len(X_train_subset)}\")\n",
    "\n",
    "        model.fit(X_train_subset, y_train_subset)\n",
    "\n",
    "        print(os.listdir(artifact_uri[7:]))\n",
    "        model_uri = artifact_uri + \"/model\"\n",
    "        model_info = mlflow.sklearn.log_model(\n",
    "            model, logged_models_dir, registered_model_name=\"berb\"\n",
    "        )\n",
    "        model_uri = model_info.model_uri\n",
    "        registered_model_name = \"boskley\"\n",
    "\n",
    "        res = ms.cv_results_df(model.cv_results_)\n",
    "        res.insert(0, \"param_classifier\", \"SVC\")\n",
    "        mlflow.log_dict(res.to_html(), \"search_cv_mean_test_scores.html\")\n",
    "\n",
    "        print(\"EVALUATION\")\n",
    "        ind = ms.subset_indices(y_test, ratio=0.2)\n",
    "        X_test_subset = X_test[ind]\n",
    "        y_test_subset = y_test[ind]\n",
    "        print(f\"Num evaluation samples: {len(X_test_subset)}\")\n",
    "\n",
    "        eval_on_test = mlflow.evaluate(\n",
    "            model_uri,\n",
    "            data=X_test_subset,\n",
    "            targets=y_test_subset,\n",
    "            model_type=\"classifier\",\n",
    "            evaluator_config={\n",
    "                \"log_model_explainability\": False,\n",
    "                \"explainability_nsamples\": 2000,\n",
    "            },\n",
    "            evaluators=None,\n",
    "        )\n",
    "\n",
    "\n",
    "delete_old_runs_with_same_name = False\n",
    "if delete_old_runs_with_same_name:\n",
    "    delete_duplicate_runs(parameter_names=[\"estimator\", \"param_grid\"], keep=0)\n",
    "\n",
    "\n",
    "res\n"
   ]
  },
  {
   "cell_type": "code",
   "execution_count": 71,
   "metadata": {},
   "outputs": [
    {
     "data": {
      "text/plain": [
       "mlflow.pyfunc.loaded_model:\n",
       "  artifact_path: best_estimator\n",
       "  flavor: mlflow.sklearn\n",
       "  run_id: 06be5778859a4c769c596bacc9ad0c5f"
      ]
     },
     "execution_count": 71,
     "metadata": {},
     "output_type": "execute_result"
    }
   ],
   "source": [
    "modelaki = mlflow.pyfunc.load_model(\n",
    "    \"/home/nikley/Projects/dataset-drilling/MNIST/mlruns/2/06be5778859a4c769c596bacc9ad0c5f/artifacts/best_estimator/\"\n",
    ")\n",
    "modelaki\n"
   ]
  },
  {
   "cell_type": "code",
   "execution_count": 72,
   "metadata": {},
   "outputs": [
    {
     "data": {
      "text/plain": [
       "'file:///home/nikley/Projects/dataset-drilling/MNIST/mlruns/2/9234dcbd490240cd89c3c1866f3747d5/artifacts/best_estimator'"
      ]
     },
     "execution_count": 72,
     "metadata": {},
     "output_type": "execute_result"
    }
   ],
   "source": [
    "moda_uri = artifact_uri + \"/best_estimator\"\n",
    "moda_uri\n"
   ]
  },
  {
   "cell_type": "code",
   "execution_count": 73,
   "metadata": {},
   "outputs": [
    {
     "data": {
      "text/plain": [
       "PosixPath('file:/home/nikley/Projects/dataset-drilling/MNIST/mlruns/2/9234dcbd490240cd89c3c1866f3747d5/artifacts/best_estimator')"
      ]
     },
     "execution_count": 73,
     "metadata": {},
     "output_type": "execute_result"
    }
   ],
   "source": [
    "moda_path = artifact_uri / Path(\"best_estimator\")\n",
    "moda_path\n"
   ]
  },
  {
   "cell_type": "code",
   "execution_count": 74,
   "metadata": {},
   "outputs": [
    {
     "data": {
      "text/plain": [
       "'file:/home/nikley/Projects/dataset-drilling/MNIST/mlruns/2/9234dcbd490240cd89c3c1866f3747d5/artifacts/model'"
      ]
     },
     "execution_count": 74,
     "metadata": {},
     "output_type": "execute_result"
    }
   ],
   "source": [
    "model_path\n"
   ]
  },
  {
   "cell_type": "markdown",
   "metadata": {},
   "source": [
    "eval_on_test = mlflow.evaluate(\n",
    "    artifact_uri+\"/model\",\n",
    "    data=X_test_subset,\n",
    "    targets=y_test_subset,\n",
    "    model_type=\"classifier\",\n",
    "    evaluator_config={\n",
    "        \"log_model_explainability\" : False,\n",
    "        \"explainability_nsamples\": 1300,\n",
    "    },\n",
    "    evaluators=None,\n",
    ")\n",
    "eval_on_test"
   ]
  },
  {
   "cell_type": "code",
   "execution_count": null,
   "metadata": {},
   "outputs": [
    {
     "ename": "SyntaxError",
     "evalue": "invalid syntax (2336099149.py, line 1)",
     "output_type": "error",
     "traceback": [
      "\u001b[0;36m  Input \u001b[0;32mIn [57]\u001b[0;36m\u001b[0m\n\u001b[0;31m    eval_on_test.artifacts.\u001b[0m\n\u001b[0m                           ^\u001b[0m\n\u001b[0;31mSyntaxError\u001b[0m\u001b[0;31m:\u001b[0m invalid syntax\n"
     ]
    }
   ],
   "source": [
    "eval_on_test.artifacts."
   ]
  },
  {
   "cell_type": "code",
   "execution_count": null,
   "metadata": {},
   "outputs": [
    {
     "data": {
      "text/plain": [
       "['search_cv_mean_test_scores.html']"
      ]
     },
     "metadata": {},
     "output_type": "display_data"
    }
   ],
   "source": [
    "os.listdir(\n",
    "    \"/home/nikley/Projects/dataset-drilling/MNIST/mlruns/2/cd9bf753faed470ea70b38ca6d4adce9/artifacts/\"\n",
    ")\n"
   ]
  },
  {
   "cell_type": "code",
   "execution_count": null,
   "metadata": {},
   "outputs": [],
   "source": []
  },
  {
   "cell_type": "markdown",
   "metadata": {},
   "source": [
    "all svcs with linear kernel have the same test score, independently of C"
   ]
  },
  {
   "cell_type": "markdown",
   "metadata": {},
   "source": [
    "## LinearSVC"
   ]
  },
  {
   "cell_type": "code",
   "execution_count": null,
   "metadata": {},
   "outputs": [
    {
     "data": {
      "text/html": [
       "<style>#sk-container-id-8 {color: black;background-color: white;}#sk-container-id-8 pre{padding: 0;}#sk-container-id-8 div.sk-toggleable {background-color: white;}#sk-container-id-8 label.sk-toggleable__label {cursor: pointer;display: block;width: 100%;margin-bottom: 0;padding: 0.3em;box-sizing: border-box;text-align: center;}#sk-container-id-8 label.sk-toggleable__label-arrow:before {content: \"▸\";float: left;margin-right: 0.25em;color: #696969;}#sk-container-id-8 label.sk-toggleable__label-arrow:hover:before {color: black;}#sk-container-id-8 div.sk-estimator:hover label.sk-toggleable__label-arrow:before {color: black;}#sk-container-id-8 div.sk-toggleable__content {max-height: 0;max-width: 0;overflow: hidden;text-align: left;background-color: #f0f8ff;}#sk-container-id-8 div.sk-toggleable__content pre {margin: 0.2em;color: black;border-radius: 0.25em;background-color: #f0f8ff;}#sk-container-id-8 input.sk-toggleable__control:checked~div.sk-toggleable__content {max-height: 200px;max-width: 100%;overflow: auto;}#sk-container-id-8 input.sk-toggleable__control:checked~label.sk-toggleable__label-arrow:before {content: \"▾\";}#sk-container-id-8 div.sk-estimator input.sk-toggleable__control:checked~label.sk-toggleable__label {background-color: #d4ebff;}#sk-container-id-8 div.sk-label input.sk-toggleable__control:checked~label.sk-toggleable__label {background-color: #d4ebff;}#sk-container-id-8 input.sk-hidden--visually {border: 0;clip: rect(1px 1px 1px 1px);clip: rect(1px, 1px, 1px, 1px);height: 1px;margin: -1px;overflow: hidden;padding: 0;position: absolute;width: 1px;}#sk-container-id-8 div.sk-estimator {font-family: monospace;background-color: #f0f8ff;border: 1px dotted black;border-radius: 0.25em;box-sizing: border-box;margin-bottom: 0.5em;}#sk-container-id-8 div.sk-estimator:hover {background-color: #d4ebff;}#sk-container-id-8 div.sk-parallel-item::after {content: \"\";width: 100%;border-bottom: 1px solid gray;flex-grow: 1;}#sk-container-id-8 div.sk-label:hover label.sk-toggleable__label {background-color: #d4ebff;}#sk-container-id-8 div.sk-serial::before {content: \"\";position: absolute;border-left: 1px solid gray;box-sizing: border-box;top: 0;bottom: 0;left: 50%;z-index: 0;}#sk-container-id-8 div.sk-serial {display: flex;flex-direction: column;align-items: center;background-color: white;padding-right: 0.2em;padding-left: 0.2em;position: relative;}#sk-container-id-8 div.sk-item {position: relative;z-index: 1;}#sk-container-id-8 div.sk-parallel {display: flex;align-items: stretch;justify-content: center;background-color: white;position: relative;}#sk-container-id-8 div.sk-item::before, #sk-container-id-8 div.sk-parallel-item::before {content: \"\";position: absolute;border-left: 1px solid gray;box-sizing: border-box;top: 0;bottom: 0;left: 50%;z-index: -1;}#sk-container-id-8 div.sk-parallel-item {display: flex;flex-direction: column;z-index: 1;position: relative;background-color: white;}#sk-container-id-8 div.sk-parallel-item:first-child::after {align-self: flex-end;width: 50%;}#sk-container-id-8 div.sk-parallel-item:last-child::after {align-self: flex-start;width: 50%;}#sk-container-id-8 div.sk-parallel-item:only-child::after {width: 0;}#sk-container-id-8 div.sk-dashed-wrapped {border: 1px dashed gray;margin: 0 0.4em 0.5em 0.4em;box-sizing: border-box;padding-bottom: 0.4em;background-color: white;}#sk-container-id-8 div.sk-label label {font-family: monospace;font-weight: bold;display: inline-block;line-height: 1.2em;}#sk-container-id-8 div.sk-label-container {text-align: center;}#sk-container-id-8 div.sk-container {/* jupyter's `normalize.less` sets `[hidden] { display: none; }` but bootstrap.min.css set `[hidden] { display: none !important; }` so we also need the `!important` here to be able to override the default hidden behavior on the sphinx rendered scikit-learn.org. See: https://github.com/scikit-learn/scikit-learn/issues/21755 */display: inline-block !important;position: relative;}#sk-container-id-8 div.sk-text-repr-fallback {display: none;}</style><div id=\"sk-container-id-8\" class=\"sk-top-container\"><div class=\"sk-text-repr-fallback\"><pre>GridSearchCV(cv=5,\n",
       "             estimator=Pipeline(steps=[(&#x27;scaler&#x27;, StandardScaler()),\n",
       "                                       (&#x27;classifier&#x27;, LinearSVC())]),\n",
       "             n_jobs=8, param_grid=[{&#x27;classifier__C&#x27;: [0.5, 1, 2, 4, 8, 16]}],\n",
       "             scoring=&#x27;f1_macro&#x27;)</pre><b>In a Jupyter environment, please rerun this cell to show the HTML representation or trust the notebook. <br />On GitHub, the HTML representation is unable to render, please try loading this page with nbviewer.org.</b></div><div class=\"sk-container\" hidden><div class=\"sk-item sk-dashed-wrapped\"><div class=\"sk-label-container\"><div class=\"sk-label sk-toggleable\"><input class=\"sk-toggleable__control sk-hidden--visually\" id=\"sk-estimator-id-29\" type=\"checkbox\" ><label for=\"sk-estimator-id-29\" class=\"sk-toggleable__label sk-toggleable__label-arrow\">GridSearchCV</label><div class=\"sk-toggleable__content\"><pre>GridSearchCV(cv=5,\n",
       "             estimator=Pipeline(steps=[(&#x27;scaler&#x27;, StandardScaler()),\n",
       "                                       (&#x27;classifier&#x27;, LinearSVC())]),\n",
       "             n_jobs=8, param_grid=[{&#x27;classifier__C&#x27;: [0.5, 1, 2, 4, 8, 16]}],\n",
       "             scoring=&#x27;f1_macro&#x27;)</pre></div></div></div><div class=\"sk-parallel\"><div class=\"sk-parallel-item\"><div class=\"sk-item\"><div class=\"sk-label-container\"><div class=\"sk-label sk-toggleable\"><input class=\"sk-toggleable__control sk-hidden--visually\" id=\"sk-estimator-id-30\" type=\"checkbox\" ><label for=\"sk-estimator-id-30\" class=\"sk-toggleable__label sk-toggleable__label-arrow\">estimator: Pipeline</label><div class=\"sk-toggleable__content\"><pre>Pipeline(steps=[(&#x27;scaler&#x27;, StandardScaler()), (&#x27;classifier&#x27;, LinearSVC())])</pre></div></div></div><div class=\"sk-serial\"><div class=\"sk-item\"><div class=\"sk-serial\"><div class=\"sk-item\"><div class=\"sk-estimator sk-toggleable\"><input class=\"sk-toggleable__control sk-hidden--visually\" id=\"sk-estimator-id-31\" type=\"checkbox\" ><label for=\"sk-estimator-id-31\" class=\"sk-toggleable__label sk-toggleable__label-arrow\">StandardScaler</label><div class=\"sk-toggleable__content\"><pre>StandardScaler()</pre></div></div></div><div class=\"sk-item\"><div class=\"sk-estimator sk-toggleable\"><input class=\"sk-toggleable__control sk-hidden--visually\" id=\"sk-estimator-id-32\" type=\"checkbox\" ><label for=\"sk-estimator-id-32\" class=\"sk-toggleable__label sk-toggleable__label-arrow\">LinearSVC</label><div class=\"sk-toggleable__content\"><pre>LinearSVC()</pre></div></div></div></div></div></div></div></div></div></div></div></div>"
      ],
      "text/plain": [
       "GridSearchCV(cv=5,\n",
       "             estimator=Pipeline(steps=[('scaler', StandardScaler()),\n",
       "                                       ('classifier', LinearSVC())]),\n",
       "             n_jobs=8, param_grid=[{'classifier__C': [0.5, 1, 2, 4, 8, 16]}],\n",
       "             scoring='f1_macro')"
      ]
     },
     "execution_count": 66,
     "metadata": {},
     "output_type": "execute_result"
    }
   ],
   "source": [
    "pipeline.set_params(classifier=LinearSVC())\n",
    "\n",
    "\n",
    "parameters = [\n",
    "    {\n",
    "        # \"classifier__tol\": [1e-4, 1e-3, 1e-2, 1e-1],\n",
    "        # \"classifier__C\":uniform(loc=0, scale=10),\n",
    "        \"classifier__C\": [0.5, 1, 2, 4, 8, 16],\n",
    "    },\n",
    "]\n",
    "\n",
    "search = GridSearchCV(pipeline, parameters, cv=5, scoring=\"f1_macro\", n_jobs=8)\n",
    "\n",
    "search.fit(X_train_subset, y_train_subset)\n"
   ]
  },
  {
   "cell_type": "code",
   "execution_count": null,
   "metadata": {},
   "outputs": [
    {
     "data": {
      "text/html": [
       "<div>\n",
       "<style scoped>\n",
       "    .dataframe tbody tr th:only-of-type {\n",
       "        vertical-align: middle;\n",
       "    }\n",
       "\n",
       "    .dataframe tbody tr th {\n",
       "        vertical-align: top;\n",
       "    }\n",
       "\n",
       "    .dataframe thead th {\n",
       "        text-align: right;\n",
       "    }\n",
       "</style>\n",
       "<table border=\"1\" class=\"dataframe\">\n",
       "  <thead>\n",
       "    <tr style=\"text-align: right;\">\n",
       "      <th></th>\n",
       "      <th>param_classifier__C</th>\n",
       "      <th>mean_test_score</th>\n",
       "    </tr>\n",
       "  </thead>\n",
       "  <tbody>\n",
       "    <tr>\n",
       "      <th>0</th>\n",
       "      <td>0.5</td>\n",
       "      <td>0.697136</td>\n",
       "    </tr>\n",
       "    <tr>\n",
       "      <th>1</th>\n",
       "      <td>1</td>\n",
       "      <td>0.696970</td>\n",
       "    </tr>\n",
       "    <tr>\n",
       "      <th>2</th>\n",
       "      <td>2</td>\n",
       "      <td>0.696970</td>\n",
       "    </tr>\n",
       "    <tr>\n",
       "      <th>3</th>\n",
       "      <td>4</td>\n",
       "      <td>0.693748</td>\n",
       "    </tr>\n",
       "    <tr>\n",
       "      <th>4</th>\n",
       "      <td>8</td>\n",
       "      <td>0.693748</td>\n",
       "    </tr>\n",
       "    <tr>\n",
       "      <th>5</th>\n",
       "      <td>16</td>\n",
       "      <td>0.693748</td>\n",
       "    </tr>\n",
       "  </tbody>\n",
       "</table>\n",
       "</div>"
      ],
      "text/plain": [
       "  param_classifier__C  mean_test_score\n",
       "0                 0.5         0.697136\n",
       "1                   1         0.696970\n",
       "2                   2         0.696970\n",
       "3                   4         0.693748\n",
       "4                   8         0.693748\n",
       "5                  16         0.693748"
      ]
     },
     "execution_count": 67,
     "metadata": {},
     "output_type": "execute_result"
    }
   ],
   "source": [
    "res_svc = ms.cv_results_df(search.cv_results_)\n",
    "res_svc\n"
   ]
  },
  {
   "cell_type": "code",
   "execution_count": null,
   "metadata": {},
   "outputs": [
    {
     "name": "stdout",
     "output_type": "stream",
     "text": [
      "Fitting 1 folds for each of 1 candidates, totalling 1 fits\n"
     ]
    },
    {
     "name": "stderr",
     "output_type": "stream",
     "text": [
      "/home/nikley/miniconda3/lib/python3.9/site-packages/sklearn/svm/_base.py:1225: ConvergenceWarning: Liblinear failed to converge, increase the number of iterations.\n",
      "  warnings.warn(\n"
     ]
    },
    {
     "name": "stdout",
     "output_type": "stream",
     "text": [
      "[CV 1/1] END classifier__C=1;, score=(train=1.000, test=0.830) total time=   4.4s\n"
     ]
    },
    {
     "name": "stderr",
     "output_type": "stream",
     "text": [
      "/home/nikley/miniconda3/lib/python3.9/site-packages/sklearn/svm/_base.py:1225: ConvergenceWarning: Liblinear failed to converge, increase the number of iterations.\n",
      "  warnings.warn(\n"
     ]
    },
    {
     "data": {
      "text/html": [
       "<div>\n",
       "<style scoped>\n",
       "    .dataframe tbody tr th:only-of-type {\n",
       "        vertical-align: middle;\n",
       "    }\n",
       "\n",
       "    .dataframe tbody tr th {\n",
       "        vertical-align: top;\n",
       "    }\n",
       "\n",
       "    .dataframe thead th {\n",
       "        text-align: right;\n",
       "    }\n",
       "</style>\n",
       "<table border=\"1\" class=\"dataframe\">\n",
       "  <thead>\n",
       "    <tr style=\"text-align: right;\">\n",
       "      <th></th>\n",
       "      <th>param_classifier__C</th>\n",
       "      <th>mean_test_score</th>\n",
       "    </tr>\n",
       "  </thead>\n",
       "  <tbody>\n",
       "    <tr>\n",
       "      <th>0</th>\n",
       "      <td>1</td>\n",
       "      <td>0.830406</td>\n",
       "    </tr>\n",
       "  </tbody>\n",
       "</table>\n",
       "</div>"
      ],
      "text/plain": [
       "  param_classifier__C  mean_test_score\n",
       "0                   1         0.830406"
      ]
     },
     "execution_count": 81,
     "metadata": {},
     "output_type": "execute_result"
    }
   ],
   "source": [
    "split = StratifiedShuffleSplit(n_splits=1, test_size=0.2)\n",
    "\n",
    "parameters = [\n",
    "    {\n",
    "        \"classifier__C\": [1],\n",
    "    },\n",
    "]\n",
    "\n",
    "search = GridSearchCV(\n",
    "    pipeline,\n",
    "    parameters,\n",
    "    cv=split,\n",
    "    verbose=4,\n",
    "    scoring=\"f1_macro\",\n",
    "    n_jobs=8,\n",
    "    return_train_score=True,\n",
    ")\n",
    "\n",
    "num_examples = 3000\n",
    "search.fit(X_train[:num_examples], y_train[:num_examples])\n",
    "\n",
    "res_svc = ms.cv_results_df(search.cv_results_)\n",
    "res_svc\n"
   ]
  },
  {
   "cell_type": "code",
   "execution_count": null,
   "metadata": {},
   "outputs": [
    {
     "data": {
      "text/html": [
       "<div>\n",
       "<style scoped>\n",
       "    .dataframe tbody tr th:only-of-type {\n",
       "        vertical-align: middle;\n",
       "    }\n",
       "\n",
       "    .dataframe tbody tr th {\n",
       "        vertical-align: top;\n",
       "    }\n",
       "\n",
       "    .dataframe thead th {\n",
       "        text-align: right;\n",
       "    }\n",
       "</style>\n",
       "<table border=\"1\" class=\"dataframe\">\n",
       "  <thead>\n",
       "    <tr style=\"text-align: right;\">\n",
       "      <th></th>\n",
       "      <th>mean_fit_time</th>\n",
       "      <th>std_fit_time</th>\n",
       "      <th>mean_score_time</th>\n",
       "      <th>std_score_time</th>\n",
       "      <th>param_classifier__C</th>\n",
       "      <th>params</th>\n",
       "      <th>split0_test_score</th>\n",
       "      <th>mean_test_score</th>\n",
       "      <th>std_test_score</th>\n",
       "      <th>rank_test_score</th>\n",
       "      <th>split0_train_score</th>\n",
       "      <th>mean_train_score</th>\n",
       "      <th>std_train_score</th>\n",
       "    </tr>\n",
       "  </thead>\n",
       "  <tbody>\n",
       "    <tr>\n",
       "      <th>0</th>\n",
       "      <td>1.108263</td>\n",
       "      <td>0.0</td>\n",
       "      <td>0.001558</td>\n",
       "      <td>0.0</td>\n",
       "      <td>1</td>\n",
       "      <td>{'classifier__C': 1}</td>\n",
       "      <td>0.789027</td>\n",
       "      <td>0.789027</td>\n",
       "      <td>0.0</td>\n",
       "      <td>1</td>\n",
       "      <td>1.0</td>\n",
       "      <td>1.0</td>\n",
       "      <td>0.0</td>\n",
       "    </tr>\n",
       "  </tbody>\n",
       "</table>\n",
       "</div>"
      ],
      "text/plain": [
       "   mean_fit_time  std_fit_time  mean_score_time  std_score_time  \\\n",
       "0       1.108263           0.0         0.001558             0.0   \n",
       "\n",
       "  param_classifier__C                params  split0_test_score  \\\n",
       "0                   1  {'classifier__C': 1}           0.789027   \n",
       "\n",
       "   mean_test_score  std_test_score  rank_test_score  split0_train_score  \\\n",
       "0         0.789027             0.0                1                 1.0   \n",
       "\n",
       "   mean_train_score  std_train_score  \n",
       "0               1.0              0.0  "
      ]
     },
     "execution_count": 79,
     "metadata": {},
     "output_type": "execute_result"
    }
   ],
   "source": [
    "pd.DataFrame(search.cv_results_)\n"
   ]
  },
  {
   "cell_type": "code",
   "execution_count": null,
   "metadata": {},
   "outputs": [
    {
     "name": "stderr",
     "output_type": "stream",
     "text": [
      "/home/nikley/miniconda3/lib/python3.9/site-packages/sklearn/svm/_base.py:1225: ConvergenceWarning: Liblinear failed to converge, increase the number of iterations.\n",
      "  warnings.warn(\n",
      "/home/nikley/miniconda3/lib/python3.9/site-packages/sklearn/svm/_base.py:1225: ConvergenceWarning: Liblinear failed to converge, increase the number of iterations.\n",
      "  warnings.warn(\n",
      "/home/nikley/miniconda3/lib/python3.9/site-packages/sklearn/svm/_base.py:1225: ConvergenceWarning: Liblinear failed to converge, increase the number of iterations.\n",
      "  warnings.warn(\n",
      "/home/nikley/miniconda3/lib/python3.9/site-packages/sklearn/svm/_base.py:1225: ConvergenceWarning: Liblinear failed to converge, increase the number of iterations.\n",
      "  warnings.warn(\n",
      "/home/nikley/miniconda3/lib/python3.9/site-packages/sklearn/svm/_base.py:1225: ConvergenceWarning: Liblinear failed to converge, increase the number of iterations.\n",
      "  warnings.warn(\n",
      "/home/nikley/miniconda3/lib/python3.9/site-packages/sklearn/svm/_base.py:1225: ConvergenceWarning: Liblinear failed to converge, increase the number of iterations.\n",
      "  warnings.warn(\n",
      "/home/nikley/miniconda3/lib/python3.9/site-packages/sklearn/svm/_base.py:1225: ConvergenceWarning: Liblinear failed to converge, increase the number of iterations.\n",
      "  warnings.warn(\n",
      "/home/nikley/miniconda3/lib/python3.9/site-packages/sklearn/svm/_base.py:1225: ConvergenceWarning: Liblinear failed to converge, increase the number of iterations.\n",
      "  warnings.warn(\n",
      "/home/nikley/miniconda3/lib/python3.9/site-packages/sklearn/svm/_base.py:1225: ConvergenceWarning: Liblinear failed to converge, increase the number of iterations.\n",
      "  warnings.warn(\n",
      "/home/nikley/miniconda3/lib/python3.9/site-packages/sklearn/svm/_base.py:1225: ConvergenceWarning: Liblinear failed to converge, increase the number of iterations.\n",
      "  warnings.warn(\n",
      "/home/nikley/miniconda3/lib/python3.9/site-packages/sklearn/svm/_base.py:1225: ConvergenceWarning: Liblinear failed to converge, increase the number of iterations.\n",
      "  warnings.warn(\n",
      "/home/nikley/miniconda3/lib/python3.9/site-packages/sklearn/svm/_base.py:1225: ConvergenceWarning: Liblinear failed to converge, increase the number of iterations.\n",
      "  warnings.warn(\n",
      "/home/nikley/miniconda3/lib/python3.9/site-packages/sklearn/svm/_base.py:1225: ConvergenceWarning: Liblinear failed to converge, increase the number of iterations.\n",
      "  warnings.warn(\n",
      "/home/nikley/miniconda3/lib/python3.9/site-packages/sklearn/svm/_base.py:1225: ConvergenceWarning: Liblinear failed to converge, increase the number of iterations.\n",
      "  warnings.warn(\n",
      "/home/nikley/miniconda3/lib/python3.9/site-packages/sklearn/svm/_base.py:1225: ConvergenceWarning: Liblinear failed to converge, increase the number of iterations.\n",
      "  warnings.warn(\n",
      "/home/nikley/miniconda3/lib/python3.9/site-packages/sklearn/svm/_base.py:1225: ConvergenceWarning: Liblinear failed to converge, increase the number of iterations.\n",
      "  warnings.warn(\n"
     ]
    },
    {
     "data": {
      "text/html": [
       "<div>\n",
       "<style scoped>\n",
       "    .dataframe tbody tr th:only-of-type {\n",
       "        vertical-align: middle;\n",
       "    }\n",
       "\n",
       "    .dataframe tbody tr th {\n",
       "        vertical-align: top;\n",
       "    }\n",
       "\n",
       "    .dataframe thead th {\n",
       "        text-align: right;\n",
       "    }\n",
       "</style>\n",
       "<table border=\"1\" class=\"dataframe\">\n",
       "  <thead>\n",
       "    <tr style=\"text-align: right;\">\n",
       "      <th></th>\n",
       "      <th>param_classifier__C</th>\n",
       "      <th>mean_test_score</th>\n",
       "    </tr>\n",
       "  </thead>\n",
       "  <tbody>\n",
       "    <tr>\n",
       "      <th>0</th>\n",
       "      <td>0.5</td>\n",
       "      <td>0.904773</td>\n",
       "    </tr>\n",
       "    <tr>\n",
       "      <th>1</th>\n",
       "      <td>1</td>\n",
       "      <td>0.901959</td>\n",
       "    </tr>\n",
       "    <tr>\n",
       "      <th>2</th>\n",
       "      <td>2</td>\n",
       "      <td>0.893967</td>\n",
       "    </tr>\n",
       "  </tbody>\n",
       "</table>\n",
       "</div>"
      ],
      "text/plain": [
       "  param_classifier__C  mean_test_score\n",
       "0                 0.5         0.904773\n",
       "1                   1         0.901959\n",
       "2                   2         0.893967"
      ]
     },
     "execution_count": 71,
     "metadata": {},
     "output_type": "execute_result"
    }
   ],
   "source": [
    "pipeline.set_params(classifier=LinearSVC())\n",
    "\n",
    "\n",
    "parameters = [\n",
    "    {\n",
    "        # \"classifier__tol\": [1e-4, 1e-3, 1e-2, 1e-1],\n",
    "        # \"classifier__C\":uniform(loc=0, scale=10),\n",
    "        \"classifier__C\": [0.5, 1, 2],\n",
    "    },\n",
    "]\n",
    "\n",
    "search = GridSearchCV(pipeline, parameters, cv=5, scoring=\"f1_macro\", n_jobs=8)\n",
    "\n",
    "search.fit(X_train, y_train)\n",
    "\n",
    "res_svc = ms.cv_results_df(search.cv_results_)\n",
    "res_svc\n"
   ]
  },
  {
   "cell_type": "markdown",
   "metadata": {},
   "source": [
    "## SGD"
   ]
  },
  {
   "cell_type": "code",
   "execution_count": null,
   "metadata": {},
   "outputs": [
    {
     "data": {
      "text/html": [
       "<style>#sk-container-id-10 {color: black;background-color: white;}#sk-container-id-10 pre{padding: 0;}#sk-container-id-10 div.sk-toggleable {background-color: white;}#sk-container-id-10 label.sk-toggleable__label {cursor: pointer;display: block;width: 100%;margin-bottom: 0;padding: 0.3em;box-sizing: border-box;text-align: center;}#sk-container-id-10 label.sk-toggleable__label-arrow:before {content: \"▸\";float: left;margin-right: 0.25em;color: #696969;}#sk-container-id-10 label.sk-toggleable__label-arrow:hover:before {color: black;}#sk-container-id-10 div.sk-estimator:hover label.sk-toggleable__label-arrow:before {color: black;}#sk-container-id-10 div.sk-toggleable__content {max-height: 0;max-width: 0;overflow: hidden;text-align: left;background-color: #f0f8ff;}#sk-container-id-10 div.sk-toggleable__content pre {margin: 0.2em;color: black;border-radius: 0.25em;background-color: #f0f8ff;}#sk-container-id-10 input.sk-toggleable__control:checked~div.sk-toggleable__content {max-height: 200px;max-width: 100%;overflow: auto;}#sk-container-id-10 input.sk-toggleable__control:checked~label.sk-toggleable__label-arrow:before {content: \"▾\";}#sk-container-id-10 div.sk-estimator input.sk-toggleable__control:checked~label.sk-toggleable__label {background-color: #d4ebff;}#sk-container-id-10 div.sk-label input.sk-toggleable__control:checked~label.sk-toggleable__label {background-color: #d4ebff;}#sk-container-id-10 input.sk-hidden--visually {border: 0;clip: rect(1px 1px 1px 1px);clip: rect(1px, 1px, 1px, 1px);height: 1px;margin: -1px;overflow: hidden;padding: 0;position: absolute;width: 1px;}#sk-container-id-10 div.sk-estimator {font-family: monospace;background-color: #f0f8ff;border: 1px dotted black;border-radius: 0.25em;box-sizing: border-box;margin-bottom: 0.5em;}#sk-container-id-10 div.sk-estimator:hover {background-color: #d4ebff;}#sk-container-id-10 div.sk-parallel-item::after {content: \"\";width: 100%;border-bottom: 1px solid gray;flex-grow: 1;}#sk-container-id-10 div.sk-label:hover label.sk-toggleable__label {background-color: #d4ebff;}#sk-container-id-10 div.sk-serial::before {content: \"\";position: absolute;border-left: 1px solid gray;box-sizing: border-box;top: 0;bottom: 0;left: 50%;z-index: 0;}#sk-container-id-10 div.sk-serial {display: flex;flex-direction: column;align-items: center;background-color: white;padding-right: 0.2em;padding-left: 0.2em;position: relative;}#sk-container-id-10 div.sk-item {position: relative;z-index: 1;}#sk-container-id-10 div.sk-parallel {display: flex;align-items: stretch;justify-content: center;background-color: white;position: relative;}#sk-container-id-10 div.sk-item::before, #sk-container-id-10 div.sk-parallel-item::before {content: \"\";position: absolute;border-left: 1px solid gray;box-sizing: border-box;top: 0;bottom: 0;left: 50%;z-index: -1;}#sk-container-id-10 div.sk-parallel-item {display: flex;flex-direction: column;z-index: 1;position: relative;background-color: white;}#sk-container-id-10 div.sk-parallel-item:first-child::after {align-self: flex-end;width: 50%;}#sk-container-id-10 div.sk-parallel-item:last-child::after {align-self: flex-start;width: 50%;}#sk-container-id-10 div.sk-parallel-item:only-child::after {width: 0;}#sk-container-id-10 div.sk-dashed-wrapped {border: 1px dashed gray;margin: 0 0.4em 0.5em 0.4em;box-sizing: border-box;padding-bottom: 0.4em;background-color: white;}#sk-container-id-10 div.sk-label label {font-family: monospace;font-weight: bold;display: inline-block;line-height: 1.2em;}#sk-container-id-10 div.sk-label-container {text-align: center;}#sk-container-id-10 div.sk-container {/* jupyter's `normalize.less` sets `[hidden] { display: none; }` but bootstrap.min.css set `[hidden] { display: none !important; }` so we also need the `!important` here to be able to override the default hidden behavior on the sphinx rendered scikit-learn.org. See: https://github.com/scikit-learn/scikit-learn/issues/21755 */display: inline-block !important;position: relative;}#sk-container-id-10 div.sk-text-repr-fallback {display: none;}</style><div id=\"sk-container-id-10\" class=\"sk-top-container\"><div class=\"sk-text-repr-fallback\"><pre>GridSearchCV(cv=5,\n",
       "             estimator=Pipeline(steps=[(&#x27;scaler&#x27;, StandardScaler()),\n",
       "                                       (&#x27;classifier&#x27;, SGDClassifier())]),\n",
       "             n_jobs=8,\n",
       "             param_grid=[{&#x27;classifier__alpha&#x27;: [0.0001, 0.001, 0.01],\n",
       "                          &#x27;classifier__loss&#x27;: [&#x27;hinge&#x27;, &#x27;log_loss&#x27;,\n",
       "                                               &#x27;modified_huber&#x27;]}],\n",
       "             scoring=&#x27;f1_macro&#x27;)</pre><b>In a Jupyter environment, please rerun this cell to show the HTML representation or trust the notebook. <br />On GitHub, the HTML representation is unable to render, please try loading this page with nbviewer.org.</b></div><div class=\"sk-container\" hidden><div class=\"sk-item sk-dashed-wrapped\"><div class=\"sk-label-container\"><div class=\"sk-label sk-toggleable\"><input class=\"sk-toggleable__control sk-hidden--visually\" id=\"sk-estimator-id-37\" type=\"checkbox\" ><label for=\"sk-estimator-id-37\" class=\"sk-toggleable__label sk-toggleable__label-arrow\">GridSearchCV</label><div class=\"sk-toggleable__content\"><pre>GridSearchCV(cv=5,\n",
       "             estimator=Pipeline(steps=[(&#x27;scaler&#x27;, StandardScaler()),\n",
       "                                       (&#x27;classifier&#x27;, SGDClassifier())]),\n",
       "             n_jobs=8,\n",
       "             param_grid=[{&#x27;classifier__alpha&#x27;: [0.0001, 0.001, 0.01],\n",
       "                          &#x27;classifier__loss&#x27;: [&#x27;hinge&#x27;, &#x27;log_loss&#x27;,\n",
       "                                               &#x27;modified_huber&#x27;]}],\n",
       "             scoring=&#x27;f1_macro&#x27;)</pre></div></div></div><div class=\"sk-parallel\"><div class=\"sk-parallel-item\"><div class=\"sk-item\"><div class=\"sk-label-container\"><div class=\"sk-label sk-toggleable\"><input class=\"sk-toggleable__control sk-hidden--visually\" id=\"sk-estimator-id-38\" type=\"checkbox\" ><label for=\"sk-estimator-id-38\" class=\"sk-toggleable__label sk-toggleable__label-arrow\">estimator: Pipeline</label><div class=\"sk-toggleable__content\"><pre>Pipeline(steps=[(&#x27;scaler&#x27;, StandardScaler()), (&#x27;classifier&#x27;, SGDClassifier())])</pre></div></div></div><div class=\"sk-serial\"><div class=\"sk-item\"><div class=\"sk-serial\"><div class=\"sk-item\"><div class=\"sk-estimator sk-toggleable\"><input class=\"sk-toggleable__control sk-hidden--visually\" id=\"sk-estimator-id-39\" type=\"checkbox\" ><label for=\"sk-estimator-id-39\" class=\"sk-toggleable__label sk-toggleable__label-arrow\">StandardScaler</label><div class=\"sk-toggleable__content\"><pre>StandardScaler()</pre></div></div></div><div class=\"sk-item\"><div class=\"sk-estimator sk-toggleable\"><input class=\"sk-toggleable__control sk-hidden--visually\" id=\"sk-estimator-id-40\" type=\"checkbox\" ><label for=\"sk-estimator-id-40\" class=\"sk-toggleable__label sk-toggleable__label-arrow\">SGDClassifier</label><div class=\"sk-toggleable__content\"><pre>SGDClassifier()</pre></div></div></div></div></div></div></div></div></div></div></div></div>"
      ],
      "text/plain": [
       "GridSearchCV(cv=5,\n",
       "             estimator=Pipeline(steps=[('scaler', StandardScaler()),\n",
       "                                       ('classifier', SGDClassifier())]),\n",
       "             n_jobs=8,\n",
       "             param_grid=[{'classifier__alpha': [0.0001, 0.001, 0.01],\n",
       "                          'classifier__loss': ['hinge', 'log_loss',\n",
       "                                               'modified_huber']}],\n",
       "             scoring='f1_macro')"
      ]
     },
     "execution_count": 69,
     "metadata": {},
     "output_type": "execute_result"
    }
   ],
   "source": [
    "pipeline.set_params(classifier=SGDClassifier())\n",
    "\n",
    "\n",
    "parameters = [\n",
    "    {\n",
    "        \"classifier__loss\": [\"hinge\", \"log_loss\", \"modified_huber\"],\n",
    "        # \"classifier__C\":uniform(loc=0, scale=10),\n",
    "        # \"classifier__C\": [0.5, 1, 2, 4, 8,16],\n",
    "        \"classifier__alpha\": [0.0001, 0.001, 0.01],\n",
    "    },\n",
    "]\n",
    "\n",
    "search = GridSearchCV(pipeline, parameters, cv=5, scoring=\"f1_macro\", n_jobs=8)\n",
    "\n",
    "search.fit(X_train_subset, y_train_subset)\n"
   ]
  },
  {
   "cell_type": "code",
   "execution_count": null,
   "metadata": {},
   "outputs": [
    {
     "data": {
      "text/html": [
       "<div>\n",
       "<style scoped>\n",
       "    .dataframe tbody tr th:only-of-type {\n",
       "        vertical-align: middle;\n",
       "    }\n",
       "\n",
       "    .dataframe tbody tr th {\n",
       "        vertical-align: top;\n",
       "    }\n",
       "\n",
       "    .dataframe thead th {\n",
       "        text-align: right;\n",
       "    }\n",
       "</style>\n",
       "<table border=\"1\" class=\"dataframe\">\n",
       "  <thead>\n",
       "    <tr style=\"text-align: right;\">\n",
       "      <th></th>\n",
       "      <th>param_classifier__alpha</th>\n",
       "      <th>param_classifier__loss</th>\n",
       "      <th>mean_test_score</th>\n",
       "    </tr>\n",
       "  </thead>\n",
       "  <tbody>\n",
       "    <tr>\n",
       "      <th>7</th>\n",
       "      <td>0.01</td>\n",
       "      <td>log_loss</td>\n",
       "      <td>0.815611</td>\n",
       "    </tr>\n",
       "    <tr>\n",
       "      <th>6</th>\n",
       "      <td>0.01</td>\n",
       "      <td>hinge</td>\n",
       "      <td>0.812618</td>\n",
       "    </tr>\n",
       "    <tr>\n",
       "      <th>4</th>\n",
       "      <td>0.001</td>\n",
       "      <td>log_loss</td>\n",
       "      <td>0.808904</td>\n",
       "    </tr>\n",
       "    <tr>\n",
       "      <th>5</th>\n",
       "      <td>0.001</td>\n",
       "      <td>modified_huber</td>\n",
       "      <td>0.804716</td>\n",
       "    </tr>\n",
       "    <tr>\n",
       "      <th>8</th>\n",
       "      <td>0.01</td>\n",
       "      <td>modified_huber</td>\n",
       "      <td>0.802650</td>\n",
       "    </tr>\n",
       "    <tr>\n",
       "      <th>3</th>\n",
       "      <td>0.001</td>\n",
       "      <td>hinge</td>\n",
       "      <td>0.800995</td>\n",
       "    </tr>\n",
       "    <tr>\n",
       "      <th>0</th>\n",
       "      <td>0.0001</td>\n",
       "      <td>hinge</td>\n",
       "      <td>0.795075</td>\n",
       "    </tr>\n",
       "    <tr>\n",
       "      <th>2</th>\n",
       "      <td>0.0001</td>\n",
       "      <td>modified_huber</td>\n",
       "      <td>0.793876</td>\n",
       "    </tr>\n",
       "    <tr>\n",
       "      <th>1</th>\n",
       "      <td>0.0001</td>\n",
       "      <td>log_loss</td>\n",
       "      <td>0.776926</td>\n",
       "    </tr>\n",
       "  </tbody>\n",
       "</table>\n",
       "</div>"
      ],
      "text/plain": [
       "  param_classifier__alpha param_classifier__loss  mean_test_score\n",
       "7                    0.01               log_loss         0.815611\n",
       "6                    0.01                  hinge         0.812618\n",
       "4                   0.001               log_loss         0.808904\n",
       "5                   0.001         modified_huber         0.804716\n",
       "8                    0.01         modified_huber         0.802650\n",
       "3                   0.001                  hinge         0.800995\n",
       "0                  0.0001                  hinge         0.795075\n",
       "2                  0.0001         modified_huber         0.793876\n",
       "1                  0.0001               log_loss         0.776926"
      ]
     },
     "execution_count": 70,
     "metadata": {},
     "output_type": "execute_result"
    }
   ],
   "source": [
    "res_svc = ms.cv_results_df(search.cv_results_)\n",
    "res_svc\n"
   ]
  },
  {
   "cell_type": "markdown",
   "metadata": {},
   "source": [
    "# Decision Tree"
   ]
  },
  {
   "cell_type": "code",
   "execution_count": null,
   "metadata": {},
   "outputs": [],
   "source": [
    "pipeline.set_params(classifier=DecisionTreeClassifier())\n"
   ]
  },
  {
   "cell_type": "markdown",
   "metadata": {},
   "source": [
    "# Drafts"
   ]
  },
  {
   "cell_type": "code",
   "execution_count": null,
   "metadata": {},
   "outputs": [
    {
     "data": {
      "text/plain": [
       "array([    0,     1,     2, ..., 59996, 59997, 59999])"
      ]
     },
     "metadata": {},
     "output_type": "display_data"
    }
   ],
   "source": [
    "skf = StratifiedKFold(n_splits=3, shuffle=True)\n",
    "# import itertools\n",
    "# top5 = itertools.islice(skf, 5)\n",
    "X_idx, y_idx = next(skf.split(X_train, y_train))\n",
    "X_train_subset, y_train_subset = X_train[X_idx], y_train[y_idx]\n",
    "# X_train_subset\n",
    "X_idx\n"
   ]
  },
  {
   "cell_type": "code",
   "execution_count": null,
   "metadata": {},
   "outputs": [],
   "source": [
    "def delete_old_runs_named(run_name, num_old=-1, **search_runs_kwargs):\n",
    "\n",
    "    df = find_runs(run_name, **search_runs_kwargs).sort_values(\"start_time\")\n",
    "\n",
    "    ids_to_delete = []\n",
    "\n",
    "    if num_old == -1:\n",
    "        # delete all but the last experiment\n",
    "        ids_to_delete = df.iloc[:-1][\"run_id\"].tolist()\n",
    "    elif num_old == 0:\n",
    "        # delete all experiments\n",
    "        ids_to_delete = df[\"run_id\"].tolist()\n",
    "    else:\n",
    "        ids_to_delete = df.iloc[:num_old][\"run_id\"].tolist()\n",
    "\n",
    "    for id_ in ids_to_delete:\n",
    "        mlflow.delete_run(run_id=id_)\n",
    "\n",
    "\n",
    "run_name = \"peurp\"\n",
    "delete_old_runs_named(run_name)\n",
    "get_runs_named(run_name)\n"
   ]
  },
  {
   "cell_type": "code",
   "execution_count": null,
   "metadata": {},
   "outputs": [
    {
     "data": {
      "text/plain": [
       "Int64Index([13878, 50244,  2332, 23539, 26140,  4154, 11965,   752, 46405,\n",
       "            31368,\n",
       "            ...\n",
       "            69876,  6161, 24570, 16191, 43746, 42214,  4185, 53284, 12274,\n",
       "             4802],\n",
       "           dtype='int64', length=7000)"
      ]
     },
     "metadata": {},
     "output_type": "display_data"
    }
   ],
   "source": [
    "def subset_indices(arr, ratio=0.2, **kwargs):\n",
    "    df = pd.DataFrame(arr)\n",
    "    index = df.index\n",
    "    df_train, df_test = train_test_split(index, test_size=ratio, **kwargs)\n",
    "    return df_test\n",
    "\n",
    "\n",
    "ind = subset_indices(X, 0.1)\n",
    "ind\n"
   ]
  },
  {
   "cell_type": "code",
   "execution_count": null,
   "metadata": {},
   "outputs": [
    {
     "data": {
      "text/html": [
       "<div>\n",
       "<style scoped>\n",
       "    .dataframe tbody tr th:only-of-type {\n",
       "        vertical-align: middle;\n",
       "    }\n",
       "\n",
       "    .dataframe tbody tr th {\n",
       "        vertical-align: top;\n",
       "    }\n",
       "\n",
       "    .dataframe thead th {\n",
       "        text-align: right;\n",
       "    }\n",
       "</style>\n",
       "<table border=\"1\" class=\"dataframe\">\n",
       "  <thead>\n",
       "    <tr style=\"text-align: right;\">\n",
       "      <th></th>\n",
       "      <th>run_id</th>\n",
       "      <th>experiment_id</th>\n",
       "      <th>status</th>\n",
       "      <th>start_time</th>\n",
       "      <th>end_time</th>\n",
       "      <th>tags.mlflow.parentRunId</th>\n",
       "    </tr>\n",
       "  </thead>\n",
       "  <tbody>\n",
       "    <tr>\n",
       "      <th>0</th>\n",
       "      <td>121aedba30024c4388058a2c495815e1</td>\n",
       "      <td>2</td>\n",
       "      <td>FAILED</td>\n",
       "      <td>2022-06-16 09:07:48.187000+00:00</td>\n",
       "      <td>2022-06-16 09:07:49.450000+00:00</td>\n",
       "      <td>None</td>\n",
       "    </tr>\n",
       "    <tr>\n",
       "      <th>1</th>\n",
       "      <td>e51ba88e25274695a5e1db8dd9a1c555</td>\n",
       "      <td>2</td>\n",
       "      <td>FAILED</td>\n",
       "      <td>2022-06-16 09:07:04.478000+00:00</td>\n",
       "      <td>2022-06-16 09:07:07.162000+00:00</td>\n",
       "      <td>None</td>\n",
       "    </tr>\n",
       "    <tr>\n",
       "      <th>2</th>\n",
       "      <td>35052a4c73d744baa9edff23d6ab0d43</td>\n",
       "      <td>2</td>\n",
       "      <td>FAILED</td>\n",
       "      <td>2022-06-16 08:57:14.908000+00:00</td>\n",
       "      <td>2022-06-16 08:57:14.912000+00:00</td>\n",
       "      <td>None</td>\n",
       "    </tr>\n",
       "    <tr>\n",
       "      <th>3</th>\n",
       "      <td>1d2674de5d3c46988174de2bcb222eff</td>\n",
       "      <td>2</td>\n",
       "      <td>FAILED</td>\n",
       "      <td>2022-06-16 08:37:24.550000+00:00</td>\n",
       "      <td>2022-06-16 08:37:27.090000+00:00</td>\n",
       "      <td>None</td>\n",
       "    </tr>\n",
       "    <tr>\n",
       "      <th>4</th>\n",
       "      <td>9091f268d59c4de3a669e09bf5cac20d</td>\n",
       "      <td>2</td>\n",
       "      <td>FAILED</td>\n",
       "      <td>2022-06-16 08:26:29.459000+00:00</td>\n",
       "      <td>2022-06-16 08:26:31.009000+00:00</td>\n",
       "      <td>None</td>\n",
       "    </tr>\n",
       "    <tr>\n",
       "      <th>...</th>\n",
       "      <td>...</td>\n",
       "      <td>...</td>\n",
       "      <td>...</td>\n",
       "      <td>...</td>\n",
       "      <td>...</td>\n",
       "      <td>...</td>\n",
       "    </tr>\n",
       "    <tr>\n",
       "      <th>65</th>\n",
       "      <td>76af3e43c1d745dd80824f4dbed8317d</td>\n",
       "      <td>2</td>\n",
       "      <td>FINISHED</td>\n",
       "      <td>2022-06-09 09:35:09.352000+00:00</td>\n",
       "      <td>2022-06-09 09:35:11.520000+00:00</td>\n",
       "      <td>None</td>\n",
       "    </tr>\n",
       "    <tr>\n",
       "      <th>66</th>\n",
       "      <td>1549d9729de840e0b08548e5584fc54b</td>\n",
       "      <td>2</td>\n",
       "      <td>FINISHED</td>\n",
       "      <td>2022-06-09 09:02:20.169000+00:00</td>\n",
       "      <td>2022-06-09 09:02:21.910000+00:00</td>\n",
       "      <td>None</td>\n",
       "    </tr>\n",
       "    <tr>\n",
       "      <th>67</th>\n",
       "      <td>6e606468300c436bb145d6abcdd55dcd</td>\n",
       "      <td>2</td>\n",
       "      <td>FINISHED</td>\n",
       "      <td>2022-06-09 09:00:08.296000+00:00</td>\n",
       "      <td>2022-06-09 09:00:10.020000+00:00</td>\n",
       "      <td>None</td>\n",
       "    </tr>\n",
       "    <tr>\n",
       "      <th>68</th>\n",
       "      <td>6e5b6c485d6544debe50d0b1bf16668e</td>\n",
       "      <td>2</td>\n",
       "      <td>FINISHED</td>\n",
       "      <td>2022-06-09 08:58:57.567000+00:00</td>\n",
       "      <td>2022-06-09 08:58:59.842000+00:00</td>\n",
       "      <td>None</td>\n",
       "    </tr>\n",
       "    <tr>\n",
       "      <th>69</th>\n",
       "      <td>ba5ce0f3118c46189a44c5d4d5777596</td>\n",
       "      <td>2</td>\n",
       "      <td>FINISHED</td>\n",
       "      <td>2022-06-09 08:18:45.127000+00:00</td>\n",
       "      <td>2022-06-09 08:58:39.551000+00:00</td>\n",
       "      <td>None</td>\n",
       "    </tr>\n",
       "  </tbody>\n",
       "</table>\n",
       "<p>70 rows × 6 columns</p>\n",
       "</div>"
      ],
      "text/plain": [
       "                              run_id experiment_id    status  \\\n",
       "0   121aedba30024c4388058a2c495815e1             2    FAILED   \n",
       "1   e51ba88e25274695a5e1db8dd9a1c555             2    FAILED   \n",
       "2   35052a4c73d744baa9edff23d6ab0d43             2    FAILED   \n",
       "3   1d2674de5d3c46988174de2bcb222eff             2    FAILED   \n",
       "4   9091f268d59c4de3a669e09bf5cac20d             2    FAILED   \n",
       "..                               ...           ...       ...   \n",
       "65  76af3e43c1d745dd80824f4dbed8317d             2  FINISHED   \n",
       "66  1549d9729de840e0b08548e5584fc54b             2  FINISHED   \n",
       "67  6e606468300c436bb145d6abcdd55dcd             2  FINISHED   \n",
       "68  6e5b6c485d6544debe50d0b1bf16668e             2  FINISHED   \n",
       "69  ba5ce0f3118c46189a44c5d4d5777596             2  FINISHED   \n",
       "\n",
       "                         start_time                         end_time  \\\n",
       "0  2022-06-16 09:07:48.187000+00:00 2022-06-16 09:07:49.450000+00:00   \n",
       "1  2022-06-16 09:07:04.478000+00:00 2022-06-16 09:07:07.162000+00:00   \n",
       "2  2022-06-16 08:57:14.908000+00:00 2022-06-16 08:57:14.912000+00:00   \n",
       "3  2022-06-16 08:37:24.550000+00:00 2022-06-16 08:37:27.090000+00:00   \n",
       "4  2022-06-16 08:26:29.459000+00:00 2022-06-16 08:26:31.009000+00:00   \n",
       "..                              ...                              ...   \n",
       "65 2022-06-09 09:35:09.352000+00:00 2022-06-09 09:35:11.520000+00:00   \n",
       "66 2022-06-09 09:02:20.169000+00:00 2022-06-09 09:02:21.910000+00:00   \n",
       "67 2022-06-09 09:00:08.296000+00:00 2022-06-09 09:00:10.020000+00:00   \n",
       "68 2022-06-09 08:58:57.567000+00:00 2022-06-09 08:58:59.842000+00:00   \n",
       "69 2022-06-09 08:18:45.127000+00:00 2022-06-09 08:58:39.551000+00:00   \n",
       "\n",
       "   tags.mlflow.parentRunId  \n",
       "0                     None  \n",
       "1                     None  \n",
       "2                     None  \n",
       "3                     None  \n",
       "4                     None  \n",
       "..                     ...  \n",
       "65                    None  \n",
       "66                    None  \n",
       "67                    None  \n",
       "68                    None  \n",
       "69                    None  \n",
       "\n",
       "[70 rows x 6 columns]"
      ]
     },
     "execution_count": 46,
     "metadata": {},
     "output_type": "execute_result"
    }
   ],
   "source": [
    "experiment_info = mlflow.get_experiment_by_name(experiment_name)\n",
    "filter_string = \"\"\n",
    "# filter_string = \"tags.`mlflow.parentRunId` LIKE 'None'\"\n",
    "df = mlflow.search_runs(\n",
    "    experiment_ids=[experiment_info.experiment_id], filter_string=filter_string\n",
    ")\n",
    "# df = df[[\"run_id\",'tags.mlflow.parentRunId']]\n",
    "\n",
    "if \"tags.mlflow.parentRunId\" in df.columns:\n",
    "    df = df\n",
    "    # df = df[df['tags.mlflow.parentRunId'].isna()]\n",
    "    # df = df[df['tags.mlflow.parentRunId'].notna()]\n",
    "else:\n",
    "    df[\"tags.mlflow.parentRunId\"] = np.nan\n",
    "\n",
    "\n",
    "df[\n",
    "    [\n",
    "        \"run_id\",\n",
    "        \"experiment_id\",\n",
    "        \"status\",\n",
    "        \"start_time\",\n",
    "        \"end_time\",\n",
    "        \"tags.mlflow.parentRunId\",\n",
    "    ]\n",
    "]\n"
   ]
  },
  {
   "cell_type": "code",
   "execution_count": null,
   "metadata": {},
   "outputs": [
    {
     "name": "stdout",
     "output_type": "stream",
     "text": [
      "              precision    recall  f1-score   support\n",
      "\n",
      "           0       0.92      0.93      0.92        59\n",
      "           1       0.88      0.99      0.93        67\n",
      "           2       0.83      0.87      0.85        60\n",
      "           3       0.84      0.84      0.84        61\n",
      "           4       0.87      0.93      0.90        58\n",
      "           5       0.80      0.80      0.80        54\n",
      "           6       0.93      0.92      0.92        59\n",
      "           7       0.86      0.78      0.82        63\n",
      "           8       0.96      0.73      0.83        59\n",
      "           9       0.63      0.68      0.66        60\n",
      "\n",
      "    accuracy                           0.85       600\n",
      "   macro avg       0.85      0.85      0.85       600\n",
      "weighted avg       0.85      0.85      0.85       600\n",
      "\n"
     ]
    }
   ],
   "source": [
    "y_train_subset_pred = cross_val_predict(\n",
    "    search.best_estimator_, X_train_subset, y_train_subset, cv=5\n",
    ")\n",
    "\n",
    "check_digit = 5\n",
    "cr = classification_report(\n",
    "    y_train_subset,\n",
    "    y_train_subset_pred,\n",
    ")\n",
    "print(cr)\n"
   ]
  },
  {
   "cell_type": "code",
   "execution_count": null,
   "metadata": {},
   "outputs": [
    {
     "data": {
      "text/plain": [
       "<sklearn.metrics._plot.confusion_matrix.ConfusionMatrixDisplay at 0x7fd3247c7700>"
      ]
     },
     "metadata": {},
     "output_type": "display_data"
    },
    {
     "data": {
      "image/png": "[encoded data removed]",
      "text/plain": [
       "<Figure size 432x288 with 2 Axes>"
      ]
     },
     "metadata": {},
     "output_type": "display_data"
    }
   ],
   "source": [
    "ConfusionMatrixDisplay.from_predictions(y_train_subset, y_train_subset_pred)\n"
   ]
  }
 ],
 "metadata": {
  "interpreter": {
   "hash": "324c79bb6431b04697b404fd27339071741a0cb531412e3737ef791241ea0a50"
  },
  "kernelspec": {
   "display_name": "Python 3.9.12 ('base')",
   "language": "python",
   "name": "python3"
  },
  "language_info": {
   "codemirror_mode": {
    "name": "ipython",
    "version": 3
   },
   "file_extension": ".py",
   "mimetype": "text/x-python",
   "name": "python",
   "nbconvert_exporter": "python",
   "pygments_lexer": "ipython3",
   "version": "3.9.13"
  },
  "orig_nbformat": 4
 },
 "nbformat": 4,
 "nbformat_minor": 2
}
